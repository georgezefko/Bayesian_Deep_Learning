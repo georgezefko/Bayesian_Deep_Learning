{
 "cells": [
  {
   "cell_type": "code",
   "execution_count": 1,
   "metadata": {},
   "outputs": [],
   "source": [
    "from laplace.baselaplace import FullLaplace\n",
    "from laplace.curvature.backpack import BackPackGGN\n",
    "import numpy as np\n",
    "import torch\n",
    "\n",
    "from laplace import Laplace, marglik_training\n",
    "import torch\n",
    "from torchvision import datasets, transforms\n",
    "import torch.utils.data as data_utils\n",
    "import matplotlib.pyplot as plt\n",
    "import torchvision\n"
   ]
  },
  {
   "cell_type": "code",
   "execution_count": 2,
   "metadata": {},
   "outputs": [],
   "source": [
    "torch.backends.cudnn.deterministic = True\n",
    "torch.backends.cudnn.benchmark = True"
   ]
  },
  {
   "cell_type": "code",
   "execution_count": 3,
   "metadata": {},
   "outputs": [],
   "source": [
    "import torch.nn as nn\n"
   ]
  },
  {
   "cell_type": "code",
   "execution_count": 4,
   "metadata": {},
   "outputs": [],
   "source": [
    "import torch.nn.functional as F\n"
   ]
  },
  {
   "cell_type": "code",
   "execution_count": 13,
   "metadata": {},
   "outputs": [],
   "source": [
    "config = {\n",
    "    \"num_classes\":10,\n",
    "    \"kernel_size\": 5,\n",
    "    \"channels\":1,\n",
    "    \"filter_1_out\" :16,\n",
    "    \"filter_2_out\" :32,\n",
    "    \"padding\" :0,\n",
    "    \"stride\" :1, \n",
    "    \"pool\":2,\n",
    "    \"learning_rate\": 0.001,\n",
    "    \"epochs\": 20,\n",
    "    \"batch_size\": 64,\n",
    "    \"crop_size\":128\n",
    "}\n"
   ]
  },
  {
   "cell_type": "code",
   "execution_count": 6,
   "metadata": {},
   "outputs": [],
   "source": [
    "device = torch.device('cpu')"
   ]
  },
  {
   "cell_type": "code",
   "execution_count": 7,
   "metadata": {},
   "outputs": [],
   "source": [
    "\n",
    "\n",
    "def compute_conv_dim(dim_size, kernel_size, padding, stride):\n",
    "  # (I-F)+2*P/S +1\n",
    "    return int((dim_size - kernel_size + 2 * padding) / stride + 1)\n",
    "\n",
    "def compute_pool_dim(dim_size, kernel_size, stride):\n",
    "  #(I-F)/S +1\n",
    "  return int((dim_size - kernel_size) / stride + 1)"
   ]
  },
  {
   "cell_type": "code",
   "execution_count": 8,
   "metadata": {},
   "outputs": [],
   "source": [
    "train_loader = torch.utils.data.DataLoader(\n",
    "            datasets.MNIST(root='.', train=True, download=True,\n",
    "                        transform=transforms.Compose([\n",
    "                            transforms.ToTensor(),\n",
    "                            transforms.Normalize((0.1307,), (0.3081,))\n",
    "                        ])), batch_size=config[\"batch_size\"], shuffle=True, num_workers=2)"
   ]
  },
  {
   "cell_type": "code",
   "execution_count": 9,
   "metadata": {},
   "outputs": [],
   "source": [
    "test_loader = torch.utils.data.DataLoader(\n",
    "            datasets.MNIST(root='.', train=False, transform=transforms.Compose([\n",
    "                transforms.ToTensor(),\n",
    "                transforms.Normalize((0.1307,), (0.3081,))\n",
    "            ])), batch_size=config[\"batch_size\"], shuffle=True, num_workers=2)"
   ]
  },
  {
   "cell_type": "code",
   "execution_count": 10,
   "metadata": {},
   "outputs": [
    {
     "name": "stdout",
     "output_type": "stream",
     "text": [
      "28 28\n"
     ]
    }
   ],
   "source": [
    "train_features, train_labels = next(iter(train_loader))\n",
    "height = train_features.shape[2]\n",
    "width = train_features.shape[3]\n",
    "print(height,width)\n"
   ]
  },
  {
   "cell_type": "code",
   "execution_count": 11,
   "metadata": {},
   "outputs": [],
   "source": [
    "class Net(nn.Module):\n",
    "    def __init__(\n",
    "        self,\n",
    "        num_classes,\n",
    "        channels,\n",
    "        filter_1_out,\n",
    "        filter_2_out,\n",
    "        kernel_size,\n",
    "        padding,\n",
    "        stride,\n",
    "        height,\n",
    "        width,\n",
    "        pool,\n",
    "        parameterize,\n",
    "    ):\n",
    "        super(Net, self).__init__()\n",
    "        self.num_classes = (num_classes,)\n",
    "        self.channels = (channels,)\n",
    "        self.filter_1_out = (filter_1_out,)\n",
    "        self.filter_2_out = (filter_2_out,)\n",
    "        self.kernel_size = (kernel_size,)\n",
    "        self.padding = (padding,)\n",
    "        self.stride = (stride,)\n",
    "        self.height = (height,)\n",
    "        self.width = (width,)\n",
    "        self.pool = (pool,)\n",
    "        self.parameterize = parameterize\n",
    "\n",
    "        self.conv1 = nn.Conv2d(channels, filter_1_out, kernel_size)\n",
    "        # evaluating image dimensions after first connvolution\n",
    "        self.conv1_out_height = compute_conv_dim(\n",
    "            height, kernel_size, padding, stride\n",
    "        )\n",
    "        self.conv1_out_width = compute_conv_dim(\n",
    "            width, kernel_size, padding, stride\n",
    "        )\n",
    "\n",
    "        # first pooling\n",
    "        self.pool1 = nn.MaxPool2d(pool, pool)\n",
    "        # evaluating image dimensions after first pooling\n",
    "        self.conv2_out_height = compute_pool_dim(\n",
    "            self.conv1_out_height, pool, pool\n",
    "        )\n",
    "        self.conv2_out_width = compute_pool_dim(\n",
    "            self.conv1_out_width, pool, pool\n",
    "        )\n",
    "\n",
    "        # Second Convolution\n",
    "        self.conv2 = nn.Conv2d(filter_1_out, filter_2_out, kernel_size)\n",
    "        # evaluating image dimensions after second convolution\n",
    "        self.conv3_out_height = compute_conv_dim(\n",
    "            self.conv2_out_height, kernel_size, padding, stride\n",
    "        )\n",
    "        self.conv3_out_width = compute_conv_dim(\n",
    "            self.conv2_out_width, kernel_size, padding, stride\n",
    "        )\n",
    "        self.conv2_drop = nn.Dropout2d()\n",
    "\n",
    "        # Second pooling\n",
    "        self.pool2 = nn.MaxPool2d(pool, pool)\n",
    "        # evaluating image dimensions after second pooling\n",
    "        self.conv4_out_height = compute_pool_dim(\n",
    "            self.conv3_out_height, pool, pool\n",
    "        )\n",
    "        self.conv4_out_width = compute_pool_dim(\n",
    "            self.conv3_out_width, pool, pool\n",
    "        )\n",
    "\n",
    "        self.fc1 = nn.Linear(\n",
    "            filter_2_out * self.conv4_out_height * self.conv4_out_width, 50\n",
    "        )\n",
    "        self.fc2 = nn.Linear(50, num_classes)\n",
    "\n",
    "        \n",
    "\n",
    "    def forward(self, x):\n",
    "\n",
    "        \n",
    "        # convolutional layer 1\n",
    "        x = F.relu(self.pool1(self.conv1(x)))\n",
    "\n",
    "        # convolutional layer 2\n",
    "        x = F.relu(self.pool2(self.conv2_drop(self.conv2(x))))\n",
    "\n",
    "        x = x.view(\n",
    "            -1, self.filter_2_out[0] * self.conv4_out_height * self.conv4_out_width\n",
    "        )\n",
    "\n",
    "        x = F.relu(self.fc1(x))\n",
    "        x = F.dropout(x, training=self.training)\n",
    "        x = self.fc2(x)\n",
    "\n",
    "        return x"
   ]
  },
  {
   "cell_type": "code",
   "execution_count": 15,
   "metadata": {},
   "outputs": [],
   "source": [
    "model = Net(\n",
    "        config[\"num_classes\"],\n",
    "        config[\"channels\"],\n",
    "        config[\"filter_1_out\"],\n",
    "        config[\"filter_2_out\"],\n",
    "        config[\"kernel_size\"],\n",
    "        config[\"padding\"],\n",
    "        config[\"stride\"],\n",
    "        height,\n",
    "        width,\n",
    "        config[\"pool\"],parameterize=False).to(device).eval()"
   ]
  },
  {
   "cell_type": "code",
   "execution_count": 16,
   "metadata": {},
   "outputs": [
    {
     "data": {
      "text/plain": [
       "<All keys matched successfully>"
      ]
     },
     "execution_count": 16,
     "metadata": {},
     "output_type": "execute_result"
    }
   ],
   "source": [
    "# model_path = '/Users/georgioszefkilis/Bayesian_Deep_Learning/models/best_checkpoint.pth'\n",
    "model_path = '/Users/georgioszefkilis/Bayesian_Deep_Learning/models/colab_best_Vanilla_MNIST_20.pth'\n",
    "checkpoint = torch.load(model_path, map_location=device)\n",
    "    # initialize state_dict from checkpoint to model\n",
    "model.load_state_dict(checkpoint[\"state_dict\"])"
   ]
  },
  {
   "cell_type": "code",
   "execution_count": 17,
   "metadata": {},
   "outputs": [],
   "source": [
    "targets = torch.cat([y for x, y in test_loader], dim=0).cpu()\n"
   ]
  },
  {
   "cell_type": "code",
   "execution_count": 18,
   "metadata": {},
   "outputs": [
    {
     "data": {
      "text/plain": [
       "tensor([8, 3, 2, 4, 6, 9, 0, 9, 2, 9, 5, 4, 0, 3, 1, 2, 1, 9, 0, 2, 7, 5, 9, 4,\n",
       "        3, 6, 1, 8, 1, 6, 9, 6, 1, 7, 6, 2, 7, 5, 2, 4, 7, 2, 3, 5, 6, 5, 4, 0,\n",
       "        8, 8, 9, 5, 5, 5, 0, 8, 4, 4, 4, 1, 4, 1, 0, 1])"
      ]
     },
     "execution_count": 18,
     "metadata": {},
     "output_type": "execute_result"
    }
   ],
   "source": [
    "train_labels"
   ]
  },
  {
   "cell_type": "code",
   "execution_count": 20,
   "metadata": {},
   "outputs": [],
   "source": [
    "@torch.no_grad()\n",
    "def predict(dataloader, model, laplace=False):\n",
    "    py = []\n",
    "\n",
    "    for x, _ in dataloader:\n",
    "        if laplace:\n",
    "            py.append(model(x.cpu()))\n",
    "        else:\n",
    "            py.append(torch.softmax(model(x.cpu()), dim=-1))\n",
    "\n",
    "    return torch.cat(py).cpu()"
   ]
  },
  {
   "cell_type": "code",
   "execution_count": 21,
   "metadata": {},
   "outputs": [],
   "source": [
    "import torch.distributions as dists\n"
   ]
  },
  {
   "cell_type": "code",
   "execution_count": 22,
   "metadata": {},
   "outputs": [],
   "source": [
    "probs_map = predict(test_loader, model, laplace=False)\n"
   ]
  },
  {
   "cell_type": "code",
   "execution_count": 23,
   "metadata": {},
   "outputs": [
    {
     "data": {
      "text/plain": [
       "tensor([[9.9998e-01, 4.3580e-13, 1.6771e-07,  ..., 2.1847e-12, 1.8537e-07,\n",
       "         9.8797e-07],\n",
       "        [1.7258e-09, 3.1709e-04, 9.8422e-01,  ..., 6.7594e-11, 4.6883e-09,\n",
       "         8.3592e-13],\n",
       "        [1.6016e-33, 3.6112e-19, 1.4754e-19,  ..., 3.6839e-17, 3.8276e-17,\n",
       "         9.0575e-11],\n",
       "        ...,\n",
       "        [1.9967e-11, 1.1930e-07, 9.9996e-01,  ..., 3.0110e-05, 2.3017e-06,\n",
       "         3.3882e-10],\n",
       "        [6.2772e-17, 2.6773e-14, 3.0573e-13,  ..., 2.8562e-08, 4.6044e-09,\n",
       "         9.9998e-01],\n",
       "        [1.0000e+00, 1.0233e-13, 3.1913e-08,  ..., 1.3165e-13, 3.9375e-08,\n",
       "         1.8443e-09]])"
      ]
     },
     "execution_count": 23,
     "metadata": {},
     "output_type": "execute_result"
    }
   ],
   "source": [
    "probs_map"
   ]
  },
  {
   "cell_type": "code",
   "execution_count": 26,
   "metadata": {},
   "outputs": [],
   "source": [
    "acc_map = (probs_map.argmax(-1) == targets).float().mean()\n"
   ]
  },
  {
   "cell_type": "code",
   "execution_count": 27,
   "metadata": {},
   "outputs": [
    {
     "data": {
      "text/plain": [
       "tensor(0.0955)"
      ]
     },
     "execution_count": 27,
     "metadata": {},
     "output_type": "execute_result"
    }
   ],
   "source": [
    "acc_map"
   ]
  },
  {
   "cell_type": "code",
   "execution_count": 25,
   "metadata": {},
   "outputs": [],
   "source": [
    "torch_prob = torch.from_numpy(probs_map)\n",
    "torch_target = torch.from_numpy(targets)"
   ]
  },
  {
   "cell_type": "code",
   "execution_count": 28,
   "metadata": {},
   "outputs": [],
   "source": [
    "nll_map = -dists.Categorical(probs_map).log_prob(targets).mean()\n"
   ]
  },
  {
   "cell_type": "code",
   "execution_count": 29,
   "metadata": {},
   "outputs": [
    {
     "data": {
      "text/plain": [
       "tensor(13.8170)"
      ]
     },
     "execution_count": 29,
     "metadata": {},
     "output_type": "execute_result"
    }
   ],
   "source": [
    "nll_map"
   ]
  },
  {
   "cell_type": "code",
   "execution_count": 29,
   "metadata": {},
   "outputs": [
    {
     "name": "stdout",
     "output_type": "stream",
     "text": [
      "[MAP] Acc.: 10.1%; NLL: 13.8\n"
     ]
    }
   ],
   "source": [
    "\n",
    "print(f'[MAP] Acc.: {acc_map:.1%}; NLL: {nll_map:.3}')"
   ]
  },
  {
   "cell_type": "code",
   "execution_count": 30,
   "metadata": {},
   "outputs": [],
   "source": [
    "la = Laplace(model, 'classification',\n",
    "             subset_of_weights='last_layer',\n",
    "             hessian_structure='kron')\n",
    "la.fit(train_loader)\n",
    "la.optimize_prior_precision(method='marglik')"
   ]
  },
  {
   "cell_type": "code",
   "execution_count": 32,
   "metadata": {},
   "outputs": [
    {
     "name": "stdout",
     "output_type": "stream",
     "text": [
      "[Laplace] Acc.: 10.0%; NLL: 11.5\n"
     ]
    }
   ],
   "source": [
    "probs_laplace = predict(test_loader, la, laplace=True)\n",
    "acc_laplace = (probs_laplace.argmax(-1) == targets).float().mean()\n",
    "#ece_laplace = ECE(bins=15).measure(probs_laplace.numpy(), targets.numpy())\n",
    "nll_laplace = -dists.Categorical(probs_laplace).log_prob(targets).mean()\n",
    "\n",
    "print(f'[Laplace] Acc.: {acc_laplace:.1%}; NLL: {nll_laplace:.3}')"
   ]
  }
 ],
 "metadata": {
  "interpreter": {
   "hash": "5519e73fd253ddc2638f9eb90f462b822a94835075ef16496d7f936ba3e281cb"
  },
  "kernelspec": {
   "display_name": "Python 3.8.12 ('Bayesian_DL')",
   "language": "python",
   "name": "python3"
  },
  "language_info": {
   "codemirror_mode": {
    "name": "ipython",
    "version": 3
   },
   "file_extension": ".py",
   "mimetype": "text/x-python",
   "name": "python",
   "nbconvert_exporter": "python",
   "pygments_lexer": "ipython3",
   "version": "3.8.12"
  },
  "orig_nbformat": 4
 },
 "nbformat": 4,
 "nbformat_minor": 2
}
