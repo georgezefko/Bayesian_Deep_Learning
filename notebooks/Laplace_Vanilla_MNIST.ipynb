{
 "cells": [
  {
   "cell_type": "code",
   "execution_count": 2,
   "metadata": {},
   "outputs": [],
   "source": [
    "from laplace.baselaplace import FullLaplace\n",
    "from laplace.curvature.backpack import BackPackGGN\n",
    "import numpy as np\n",
    "import torch\n",
    "\n",
    "from laplace import Laplace, marglik_training\n",
    "import torch\n",
    "from torchvision import datasets, transforms\n",
    "import torch.utils.data as data_utils\n",
    "import matplotlib.pyplot as plt\n",
    "import torchvision\n"
   ]
  },
  {
   "cell_type": "code",
   "execution_count": 3,
   "metadata": {},
   "outputs": [],
   "source": [
    "torch.backends.cudnn.deterministic = True\n",
    "torch.backends.cudnn.benchmark = True"
   ]
  },
  {
   "cell_type": "code",
   "execution_count": 4,
   "metadata": {},
   "outputs": [],
   "source": [
    "import torch.nn as nn\n"
   ]
  },
  {
   "cell_type": "code",
   "execution_count": 5,
   "metadata": {},
   "outputs": [],
   "source": [
    "import torch.nn.functional as F\n"
   ]
  },
  {
   "cell_type": "code",
   "execution_count": 6,
   "metadata": {},
   "outputs": [
    {
     "name": "stderr",
     "output_type": "stream",
     "text": [
      "<frozen importlib._bootstrap>:219: RuntimeWarning: scipy._lib.messagestream.MessageStream size changed, may indicate binary incompatibility. Expected 56 from C header, got 64 from PyObject\n"
     ]
    }
   ],
   "source": [
    "import torch.distributions as dists\n",
    "from netcal.metrics import ECE"
   ]
  },
  {
   "cell_type": "code",
   "execution_count": 7,
   "metadata": {},
   "outputs": [],
   "source": [
    "config = {\n",
    "    \"num_classes\":10,\n",
    "    \"kernel_size\": 5,\n",
    "    \"channels\":1,\n",
    "    \"filter_1_out\" :16,\n",
    "    \"filter_2_out\" :32,\n",
    "    \"padding\" :0,\n",
    "    \"stride\" :1, \n",
    "    \"pool\":2,\n",
    "    \"learning_rate\": 0.001,\n",
    "    \"epochs\": 20,\n",
    "    \"batch_size\": 64,\n",
    "    \"crop_size\":128\n",
    "}\n"
   ]
  },
  {
   "cell_type": "code",
   "execution_count": 8,
   "metadata": {},
   "outputs": [],
   "source": [
    "device = torch.device('cpu')"
   ]
  },
  {
   "cell_type": "code",
   "execution_count": 9,
   "metadata": {},
   "outputs": [],
   "source": [
    "\n",
    "\n",
    "def compute_conv_dim(dim_size, kernel_size, padding, stride):\n",
    "  # (I-F)+2*P/S +1\n",
    "    return int((dim_size - kernel_size + 2 * padding) / stride + 1)\n",
    "\n",
    "def compute_pool_dim(dim_size, kernel_size, stride):\n",
    "  #(I-F)/S +1\n",
    "  return int((dim_size - kernel_size) / stride + 1)"
   ]
  },
  {
   "cell_type": "code",
   "execution_count": 10,
   "metadata": {},
   "outputs": [],
   "source": [
    "train_loader = torch.utils.data.DataLoader(\n",
    "            datasets.MNIST(root='.', train=True, download=True,\n",
    "                        transform=transforms.Compose([\n",
    "                            transforms.ToTensor(),\n",
    "                            transforms.Normalize((0.1307,), (0.3081,))\n",
    "                        ])), batch_size=config[\"batch_size\"], shuffle=True, num_workers=2)"
   ]
  },
  {
   "cell_type": "code",
   "execution_count": 11,
   "metadata": {},
   "outputs": [],
   "source": [
    "test_loader = torch.utils.data.DataLoader(\n",
    "            datasets.MNIST(root='.', train=False, transform=transforms.Compose([\n",
    "                transforms.ToTensor(),\n",
    "                transforms.Normalize((0.1307,), (0.3081,))\n",
    "            ])), batch_size=config[\"batch_size\"], shuffle=True, num_workers=2)"
   ]
  },
  {
   "cell_type": "code",
   "execution_count": 12,
   "metadata": {},
   "outputs": [
    {
     "name": "stdout",
     "output_type": "stream",
     "text": [
      "28 28\n"
     ]
    }
   ],
   "source": [
    "train_features, train_labels = next(iter(train_loader))\n",
    "height = train_features.shape[2]\n",
    "width = train_features.shape[3]\n",
    "print(height,width)\n"
   ]
  },
  {
   "cell_type": "code",
   "execution_count": 13,
   "metadata": {},
   "outputs": [],
   "source": [
    "class Net(nn.Module):\n",
    "    def __init__(\n",
    "        self,\n",
    "        num_classes,\n",
    "        channels,\n",
    "        filter_1_out,\n",
    "        filter_2_out,\n",
    "        kernel_size,\n",
    "        padding,\n",
    "        stride,\n",
    "        height,\n",
    "        width,\n",
    "        pool,\n",
    "        parameterize,\n",
    "    ):\n",
    "        super(Net, self).__init__()\n",
    "        self.num_classes = (num_classes,)\n",
    "        self.channels = (channels,)\n",
    "        self.filter_1_out = (filter_1_out,)\n",
    "        self.filter_2_out = (filter_2_out,)\n",
    "        self.kernel_size = (kernel_size,)\n",
    "        self.padding = (padding,)\n",
    "        self.stride = (stride,)\n",
    "        self.height = (height,)\n",
    "        self.width = (width,)\n",
    "        self.pool = (pool,)\n",
    "        self.parameterize = parameterize\n",
    "\n",
    "        self.conv1 = nn.Conv2d(channels, filter_1_out, kernel_size)\n",
    "        # evaluating image dimensions after first connvolution\n",
    "        self.conv1_out_height = compute_conv_dim(\n",
    "            height, kernel_size, padding, stride\n",
    "        )\n",
    "        self.conv1_out_width = compute_conv_dim(\n",
    "            width, kernel_size, padding, stride\n",
    "        )\n",
    "\n",
    "        # first pooling\n",
    "        self.pool1 = nn.MaxPool2d(pool, pool)\n",
    "        # evaluating image dimensions after first pooling\n",
    "        self.conv2_out_height = compute_pool_dim(\n",
    "            self.conv1_out_height, pool, pool\n",
    "        )\n",
    "        self.conv2_out_width = compute_pool_dim(\n",
    "            self.conv1_out_width, pool, pool\n",
    "        )\n",
    "\n",
    "        # Second Convolution\n",
    "        self.conv2 = nn.Conv2d(filter_1_out, filter_2_out, kernel_size)\n",
    "        # evaluating image dimensions after second convolution\n",
    "        self.conv3_out_height = compute_conv_dim(\n",
    "            self.conv2_out_height, kernel_size, padding, stride\n",
    "        )\n",
    "        self.conv3_out_width = compute_conv_dim(\n",
    "            self.conv2_out_width, kernel_size, padding, stride\n",
    "        )\n",
    "        self.conv2_drop = nn.Dropout2d()\n",
    "\n",
    "        # Second pooling\n",
    "        self.pool2 = nn.MaxPool2d(pool, pool)\n",
    "        # evaluating image dimensions after second pooling\n",
    "        self.conv4_out_height = compute_pool_dim(\n",
    "            self.conv3_out_height, pool, pool\n",
    "        )\n",
    "        self.conv4_out_width = compute_pool_dim(\n",
    "            self.conv3_out_width, pool, pool\n",
    "        )\n",
    "\n",
    "        self.fc1 = nn.Linear(\n",
    "            filter_2_out * self.conv4_out_height * self.conv4_out_width, 50\n",
    "        )\n",
    "        self.fc2 = nn.Linear(50, num_classes)\n",
    "\n",
    "        \n",
    "\n",
    "    def forward(self, x):\n",
    "\n",
    "        \n",
    "        # convolutional layer 1\n",
    "        x = F.relu(self.pool1(self.conv1(x)))\n",
    "\n",
    "        # convolutional layer 2\n",
    "        x = F.relu(self.pool2(self.conv2_drop(self.conv2(x))))\n",
    "\n",
    "        x = x.view(\n",
    "            -1, self.filter_2_out[0] * self.conv4_out_height * self.conv4_out_width\n",
    "        )\n",
    "\n",
    "        x = F.relu(self.fc1(x))\n",
    "        x = F.dropout(x, training=self.training)\n",
    "        x = self.fc2(x)\n",
    "\n",
    "        return x"
   ]
  },
  {
   "cell_type": "code",
   "execution_count": 14,
   "metadata": {},
   "outputs": [],
   "source": [
    "model = Net(\n",
    "        config[\"num_classes\"],\n",
    "        config[\"channels\"],\n",
    "        config[\"filter_1_out\"],\n",
    "        config[\"filter_2_out\"],\n",
    "        config[\"kernel_size\"],\n",
    "        config[\"padding\"],\n",
    "        config[\"stride\"],\n",
    "        height,\n",
    "        width,\n",
    "        config[\"pool\"],parameterize=False).to(device).eval()"
   ]
  },
  {
   "cell_type": "code",
   "execution_count": 15,
   "metadata": {},
   "outputs": [
    {
     "data": {
      "text/plain": [
       "<All keys matched successfully>"
      ]
     },
     "execution_count": 15,
     "metadata": {},
     "output_type": "execute_result"
    }
   ],
   "source": [
    "# model_path = '/Users/georgioszefkilis/Bayesian_Deep_Learning/models/best_checkpoint.pth'\n",
    "model_path = '/Users/georgioszefkilis/Bayesian_Deep_Learning/saved_models/colab_best_Vanilla_MNIST_20.pth'\n",
    "checkpoint = torch.load(model_path, map_location=device)\n",
    "    # initialize state_dict from checkpoint to model\n",
    "model.load_state_dict(checkpoint[\"state_dict\"])"
   ]
  },
  {
   "cell_type": "code",
   "execution_count": 15,
   "metadata": {},
   "outputs": [],
   "source": [
    "targets = torch.cat([y for x, y in test_loader], dim=0).cpu()\n"
   ]
  },
  {
   "cell_type": "code",
   "execution_count": 17,
   "metadata": {},
   "outputs": [
    {
     "data": {
      "text/plain": [
       "torch.Size([10000])"
      ]
     },
     "execution_count": 17,
     "metadata": {},
     "output_type": "execute_result"
    }
   ],
   "source": [
    "targets.shape"
   ]
  },
  {
   "cell_type": "code",
   "execution_count": 16,
   "metadata": {},
   "outputs": [],
   "source": [
    "def predict(trained_model,laplace=False):\n",
    "    with torch.no_grad():\n",
    "\n",
    "        correct = 0\n",
    "        \n",
    "\n",
    "        for data, target in test_loader:\n",
    "            data, target = data.to(device), target.to(device)\n",
    "            if laplace:\n",
    "                output = trained_model(data)\n",
    "            else:\n",
    "                output = torch.softmax(trained_model(data),dim=-1)\n",
    "            \n",
    "            acc_map = (output.argmax(-1) == target).float().mean()\n",
    "            ece_map = ECE(bins=15).measure(output.numpy(), target.numpy())\n",
    "            nll_map = -dists.Categorical(output).log_prob(target).mean()\n",
    "\n",
    "            # ps = torch.exp(output)\n",
    "\n",
    "            # # Keep track of how many are correctly classified\n",
    "            # top_p, top_class = ps.topk(1, dim=1)\n",
    "            # equals = top_class == target.view(*top_class.shape)\n",
    "            # correct += equals.type(torch.FloatTensor).sum().item()\n",
    "            _,predicted = torch.max(output.data,1)\n",
    "            correct+=(predicted==target).sum().item()\n",
    "\n",
    "        print(\n",
    "            \"\\nTest set: Accuracy: {}/{} ({:.0f}%)\\n\".format(\n",
    "                correct,\n",
    "                len(test_loader.dataset),\n",
    "                100.0 * correct / len(test_loader.dataset),\n",
    "            )\n",
    "        )\n",
    "        print(f\"Acc.: {acc_map:.1%}; ECE: {ece_map:.1%}; NLL: {nll_map:.3}\")\n",
    "\n",
    "    accuracy = correct / len(test_loader.dataset)\n",
    "    return accuracy,acc_map,ece_map,nll_map"
   ]
  },
  {
   "cell_type": "code",
   "execution_count": 39,
   "metadata": {},
   "outputs": [],
   "source": [
    "@torch.no_grad()\n",
    "def predict_example(dataloader, model, laplace=False):\n",
    "    py = []\n",
    "    target = []\n",
    "    for x, t in dataloader:\n",
    "        x,t = x.to(device),t.to(device)\n",
    "        target.append(t)\n",
    "        if laplace:\n",
    "            py.append(model(x))\n",
    "        else:\n",
    "            py.append(torch.softmax(model(x), dim=-1))\n",
    "    images = torch.cat(py).cpu()\n",
    "    labels =torch.cat(target, dim=0).cpu()\n",
    "    return images,labels"
   ]
  },
  {
   "cell_type": "markdown",
   "metadata": {},
   "source": [
    "# Last layer implementation"
   ]
  },
  {
   "cell_type": "markdown",
   "metadata": {},
   "source": [
    "## Without Laplace"
   ]
  },
  {
   "cell_type": "code",
   "execution_count": 23,
   "metadata": {},
   "outputs": [
    {
     "name": "stdout",
     "output_type": "stream",
     "text": [
      "\n",
      "Test set: Accuracy: 9913/10000 (99%)\n",
      "\n",
      "Acc.: 100.0%; ECE: 1.7%; NLL: 0.0202\n"
     ]
    }
   ],
   "source": [
    "accuracy,acc_map,ece_map,nll_map = predict(model, laplace=False)\n"
   ]
  },
  {
   "cell_type": "code",
   "execution_count": 43,
   "metadata": {},
   "outputs": [
    {
     "name": "stdout",
     "output_type": "stream",
     "text": [
      "tensor(0.9913)\n",
      "[MAP] Acc.: 99.1%; ECE: 0.3%; NLL: 0.0289\n"
     ]
    }
   ],
   "source": [
    "probs_map,targets = predict_example(test_loader, model, laplace=False)\n",
    "#targets = torch.cat([y for x, y in test_loader], dim=0).cpu()\n",
    "\n",
    "acc_map = (probs_map.argmax(-1) == targets).float().mean()\n",
    "print(acc_map)\n",
    "ece_map = ECE(bins=15).measure(probs_map.numpy(), targets.numpy())\n",
    "nll_map = -dists.Categorical(probs_map).log_prob(targets).mean()\n",
    "\n",
    "print(f\"[MAP] Acc.: {acc_map:.1%}; ECE: {ece_map:.1%}; NLL: {nll_map:.3}\")"
   ]
  },
  {
   "cell_type": "markdown",
   "metadata": {},
   "source": [
    "## With Laplace"
   ]
  },
  {
   "cell_type": "code",
   "execution_count": 18,
   "metadata": {},
   "outputs": [],
   "source": [
    "la = Laplace(model, 'classification',\n",
    "             subset_of_weights='last_layer',\n",
    "             hessian_structure='kron')\n",
    "la.fit(train_loader)\n",
    "la.optimize_prior_precision(method='marglik')"
   ]
  },
  {
   "cell_type": "code",
   "execution_count": 21,
   "metadata": {},
   "outputs": [
    {
     "name": "stdout",
     "output_type": "stream",
     "text": [
      "\n",
      "Test set: Accuracy: 9915/10000 (99%)\n",
      "\n",
      "Acc.: 100.0%; ECE: 0.3%; NLL: 0.00351\n"
     ]
    }
   ],
   "source": [
    "accuracy,acc_map,ece_map,nll_map = predict(la, laplace=True)\n"
   ]
  },
  {
   "cell_type": "code",
   "execution_count": 42,
   "metadata": {},
   "outputs": [
    {
     "name": "stdout",
     "output_type": "stream",
     "text": [
      "tensor(0.9915)\n",
      "[Laplace] Acc.: 99.2%; ECE: 0.5%; NLL: 0.0287\n"
     ]
    }
   ],
   "source": [
    "probs_map,targets = predict_example(test_loader, la, laplace=True)\n",
    "#targets = torch.cat([y for x, y in test_loader], dim=0).cpu()\n",
    "\n",
    "acc_map = (probs_map.argmax(-1) == targets).float().mean()\n",
    "print(acc_map)\n",
    "ece_map = ECE(bins=15).measure(probs_map.numpy(), targets.numpy())\n",
    "nll_map = -dists.Categorical(probs_map).log_prob(targets).mean()\n",
    "\n",
    "print(f\"[Laplace] Acc.: {acc_map:.1%}; ECE: {ece_map:.1%}; NLL: {nll_map:.3}\")"
   ]
  },
  {
   "cell_type": "markdown",
   "metadata": {},
   "source": [
    "### Observations\n",
    "Not sure 100% that it works corect. Evey run gives different results for both with and without laplace."
   ]
  },
  {
   "cell_type": "markdown",
   "metadata": {},
   "source": [
    "# Subnetwork implementation"
   ]
  },
  {
   "cell_type": "code",
   "execution_count": 44,
   "metadata": {},
   "outputs": [],
   "source": [
    "from laplace.baselaplace import FullLaplace\n",
    "from laplace.curvature.backpack import BackPackGGN\n",
    "from laplace.utils import ModuleNameSubnetMask"
   ]
  },
  {
   "cell_type": "code",
   "execution_count": 78,
   "metadata": {},
   "outputs": [
    {
     "name": "stdout",
     "output_type": "stream",
     "text": [
      "\n",
      "conv1\n",
      "pool1\n",
      "conv2\n",
      "conv2_drop\n",
      "pool2\n",
      "fc1\n",
      "fc2\n"
     ]
    }
   ],
   "source": [
    "for name,m in model.named_modules():\n",
    "    print(name)"
   ]
  },
  {
   "cell_type": "code",
   "execution_count": 45,
   "metadata": {},
   "outputs": [
    {
     "name": "stdout",
     "output_type": "stream",
     "text": [
      "start_laplace\n",
      "step 2\n",
      "step 3\n",
      "step 4\n",
      "fit\n"
     ]
    },
    {
     "name": "stderr",
     "output_type": "stream",
     "text": [
      "/Users/georgioszefkilis/anaconda3/anaconda3/envs/Bayesian_DL/lib/python3.8/site-packages/backpack/extensions/backprop_extension.py:106: UserWarning: Extension saving to grad_batch does not have an extension for Module <class '__main__.Net'> although the module has parameters\n",
      "  warnings.warn(\n"
     ]
    }
   ],
   "source": [
    "print('start_laplace')\n",
    "subnetwork_mask = ModuleNameSubnetMask(model, module_names=['fc1'])\n",
    "print('step 2')\n",
    "subnetwork_mask.select()\n",
    "print('step 3')\n",
    "subnetwork_indices = subnetwork_mask.indices\n",
    "print('step 4')\n",
    "sub_laplace = Laplace(\n",
    "    model,\n",
    "    \"classification\",\n",
    "    subset_of_weights=\"subnetwork\",\n",
    "    hessian_structure=\"full\",\n",
    "    subnetwork_indices = subnetwork_indices#.type(torch.LongTensor),\n",
    ")\n",
    "print('fit')\n",
    "sub_laplace.fit(train_loader)\n",
    "print('optimize')\n",
    "sub_laplace.prior_precision=torch.tensor([0.00001])\n",
    "\n",
    "#laplace.optimize_prior_precision(method=\"marglik\",val_loader=test_loader)"
   ]
  },
  {
   "cell_type": "code",
   "execution_count": 80,
   "metadata": {},
   "outputs": [
    {
     "name": "stdout",
     "output_type": "stream",
     "text": [
      "\n",
      "Test set: Accuracy: 9903.0/10000 (99%)\n",
      "\n",
      "Acc.: 100.0%; ECE: 4.0%; NLL: 0.0419\n"
     ]
    }
   ],
   "source": [
    "la_accuracy,acc_map,ece_map,nll_map = predict(sub_laplace,laplace=True)\n"
   ]
  },
  {
   "cell_type": "code",
   "execution_count": null,
   "metadata": {},
   "outputs": [],
   "source": [
    "probs_map,targets = predict_example(test_loader, sub_laplace, laplace=True)\n",
    "#targets = torch.cat([y for x, y in test_loader], dim=0).cpu()\n",
    "\n",
    "acc_map = (probs_map.argmax(-1) == targets).float().mean()\n",
    "print(acc_map)\n",
    "ece_map = ECE(bins=15).measure(probs_map.numpy(), targets.numpy())\n",
    "nll_map = -dists.Categorical(probs_map).log_prob(targets).mean()\n",
    "\n",
    "print(f\"[Laplace] Acc.: {acc_map:.1%}; ECE: {ece_map:.1%}; NLL: {nll_map:.3}\")"
   ]
  },
  {
   "cell_type": "code",
   "execution_count": 1,
   "metadata": {},
   "outputs": [
    {
     "ename": "NameError",
     "evalue": "name 'torch' is not defined",
     "output_type": "error",
     "traceback": [
      "\u001b[0;31m---------------------------------------------------------------------------\u001b[0m",
      "\u001b[0;31mNameError\u001b[0m                                 Traceback (most recent call last)",
      "\u001b[1;32m/Users/georgioszefkilis/Bayesian_Deep_Learning/notebooks/Laplace_Vanilla_MNIST.ipynb Cell 30'\u001b[0m in \u001b[0;36m<module>\u001b[0;34m\u001b[0m\n\u001b[0;32m----> <a href='vscode-notebook-cell:/Users/georgioszefkilis/Bayesian_Deep_Learning/notebooks/Laplace_Vanilla_MNIST.ipynb#ch0000029?line=0'>1</a>\u001b[0m sub_laplace\u001b[39m.\u001b[39mprior_precision\u001b[39m=\u001b[39mtorch\u001b[39m.\u001b[39mtensor([\u001b[39m0.00001\u001b[39m])\n",
      "\u001b[0;31mNameError\u001b[0m: name 'torch' is not defined"
     ]
    }
   ],
   "source": [
    "sub_laplace.prior_precision=torch.tensor([0.00001])\n"
   ]
  },
  {
   "cell_type": "code",
   "execution_count": null,
   "metadata": {},
   "outputs": [],
   "source": [
    "la_accuracy,acc_map,ece_map,nll_map = predict(sub_laplace,laplace=True)\n"
   ]
  }
 ],
 "metadata": {
  "interpreter": {
   "hash": "5519e73fd253ddc2638f9eb90f462b822a94835075ef16496d7f936ba3e281cb"
  },
  "kernelspec": {
   "display_name": "Python 3.8.12 ('Bayesian_DL')",
   "language": "python",
   "name": "python3"
  },
  "language_info": {
   "codemirror_mode": {
    "name": "ipython",
    "version": 3
   },
   "file_extension": ".py",
   "mimetype": "text/x-python",
   "name": "python",
   "nbconvert_exporter": "python",
   "pygments_lexer": "ipython3",
   "version": "3.8.12"
  },
  "orig_nbformat": 4
 },
 "nbformat": 4,
 "nbformat_minor": 2
}
