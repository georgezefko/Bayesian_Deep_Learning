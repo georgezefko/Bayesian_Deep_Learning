{
 "cells": [
  {
   "cell_type": "code",
   "execution_count": 2,
   "metadata": {},
   "outputs": [],
   "source": [
    "from laplace.baselaplace import FullLaplace\n",
    "from laplace.curvature.backpack import BackPackGGN\n",
    "import numpy as np\n",
    "import torch\n",
    "import torch.nn as nn\n",
    "import torch.nn.functional as F\n",
    "import torch.distributions as dists\n",
    "from netcal.metrics import ECE\n",
    "\n",
    "from laplace import Laplace, marglik_training\n",
    "import torch\n",
    "from torchvision import datasets, transforms\n",
    "import torch.utils.data as data_utils\n",
    "import matplotlib.pyplot as plt\n",
    "import torchvision\n",
    "import sys\n",
    "import os\n",
    "torch.backends.cudnn.deterministic = True\n",
    "torch.backends.cudnn.benchmark = True"
   ]
  },
  {
   "cell_type": "code",
   "execution_count": null,
   "metadata": {},
   "outputs": [],
   "source": [
    "py_file_location = \"/Users/georgioszefkilis/Bayesian_Deep_Learning/src/utils\"\n",
    "py_file_location_src = \"/Users/georgioszefkilis/Bayesian_Deep_Learning/src/data\"\n",
    "sys.path.append(os.path.abspath(py_file_location))\n",
    "\n",
    "sys.path.append(os.path.abspath(py_file_location_src))\n",
    "import compute_dim\n",
    "import make_dataset\n"
   ]
  },
  {
   "cell_type": "code",
   "execution_count": 7,
   "metadata": {},
   "outputs": [],
   "source": [
    "config={\n",
    "            \"batch_size\": 256,\n",
    "            \"num_classes\": 10,\n",
    "            \"channels\": 1,\n",
    "            \"filter1_out\": 16,\n",
    "            \"kernel_size\": 5,\n",
    "            \"pool\": 2,\n",
    "            \"filter2_out\": 32,\n",
    "            \"padding\": 0,\n",
    "            \"stride\": 1,\n",
    "            \"learning_rate_base\": 0.001,\n",
    "            \"learning_rate_stn\":0.0001,\n",
    "            \"epochs\": 5,\n",
    "            \"crop_size\": 128,\n",
    "            \"enc_sizes\":[16,32],\n",
    "            \"loc_sizes\":[8,16,32,64],\n",
    "        }\n"
   ]
  },
  {
   "cell_type": "code",
   "execution_count": 8,
   "metadata": {},
   "outputs": [],
   "source": [
    "device = torch.device('cpu')"
   ]
  },
  {
   "cell_type": "code",
   "execution_count": null,
   "metadata": {},
   "outputs": [],
   "source": [
    "train_loader,_, test_loader = make_dataset.data(\n",
    "        config[\"batch_size\"], config[\"crop_size\"], misplacement=False\n",
    "    )"
   ]
  },
  {
   "cell_type": "code",
   "execution_count": 12,
   "metadata": {},
   "outputs": [
    {
     "name": "stdout",
     "output_type": "stream",
     "text": [
      "28 28\n"
     ]
    }
   ],
   "source": [
    "train_features, train_labels = next(iter(train_loader))\n",
    "height = train_features.shape[2]\n",
    "width = train_features.shape[3]\n",
    "print(height,width)\n"
   ]
  },
  {
   "cell_type": "code",
   "execution_count": 13,
   "metadata": {},
   "outputs": [],
   "source": [
    "class Base(nn.Module):\n",
    "    def __init__(self, enc_sizes, kernel, pad):\n",
    "        super().__init__()\n",
    "\n",
    "        \n",
    "        conv_blocks =[compute_dim.conv_block(in_f, out_f, kernel_size=kernel, padding=pad) \n",
    "                       for in_f, out_f in zip(enc_sizes, enc_sizes[1:])]\n",
    "\n",
    "        self.base_net = nn.Sequential(*conv_blocks)\n",
    "        \n",
    "\n",
    "    def forward(self,x):\n",
    "        x = self.base_net(x)\n",
    "    \n",
    "        return x\n",
    "\n",
    "class Vanilla(nn.Module):\n",
    "    def __init__(self, in_c, enc_sizes, kernel, pad,n_classes):\n",
    "        super().__init__()\n",
    "    \n",
    "        self.enc_sizes = [in_c, *enc_sizes]\n",
    "        self.kernel = kernel\n",
    "        self.pad = pad\n",
    "        self.n_classes = n_classes\n",
    "        \n",
    "        self.base = Base(self.enc_sizes,self.kernel,self.pad)\n",
    "        self.fc1 = nn.Linear(\n",
    "            self.enc_sizes[-1] * 4* 4 , 50\n",
    "        )\n",
    "        self.fc2 = nn.Linear(50, self.n_classes)\n",
    "        \n",
    "\n",
    "    def forward(self,x):\n",
    "        \n",
    "        x = self.base(x)        \n",
    "        x = x.flatten(1)\n",
    "        x = F.relu(self.fc1(x))\n",
    "        x = F.dropout(x, training=self.training)\n",
    "        x = self.fc2(x)\n",
    "\n",
    "        return x"
   ]
  },
  {
   "cell_type": "code",
   "execution_count": 14,
   "metadata": {},
   "outputs": [],
   "source": [
    "model = Vanilla(\n",
    "        config[\"channels\"],\n",
    "        config[\"enc_sizes\"],\n",
    "        config[\"kernel_size\"],\n",
    "        config[\"padding\"],\n",
    "        config[\"num_classes\"]).to(device).eval().to(device).eval()"
   ]
  },
  {
   "cell_type": "code",
   "execution_count": 15,
   "metadata": {},
   "outputs": [
    {
     "data": {
      "text/plain": [
       "<All keys matched successfully>"
      ]
     },
     "execution_count": 15,
     "metadata": {},
     "output_type": "execute_result"
    }
   ],
   "source": [
    "# model_path = '/Users/georgioszefkilis/Bayesian_Deep_Learning/models/best_checkpoint.pth'\n",
    "model_path = '/Users/georgioszefkilis/Bayesian_Deep_Learning/saved_models/colab_best_Vanilla_MNIST_20.pth'\n",
    "checkpoint = torch.load(model_path, map_location=device)\n",
    "    # initialize state_dict from checkpoint to model\n",
    "model.load_state_dict(checkpoint[\"state_dict\"])"
   ]
  },
  {
   "cell_type": "code",
   "execution_count": 16,
   "metadata": {},
   "outputs": [],
   "source": [
    "@torch.no_grad()\n",
    "def predict(dataloader, model, laplace=False):\n",
    "    py = []\n",
    "    target = []\n",
    "    for x, t in dataloader:\n",
    "        x,t = x.to(device),t.to(device)\n",
    "        target.append(t)\n",
    "        if laplace:\n",
    "            py.append(model(x))\n",
    "        else:\n",
    "            py.append(torch.softmax(model(x), dim=-1))\n",
    "\n",
    "    images = torch.cat(py).cpu()\n",
    "    labels =torch.cat(target, dim=0).cpu()\n",
    "    acc_map = (images.argmax(-1) == labels).float().mean()\n",
    "    ece_map = ECE(bins=15).measure(images.numpy(), labels.numpy())\n",
    "    nll_map = -dists.Categorical(images).log_prob(labels).mean()\n",
    "    \n",
    "    return acc_map,ece_map,nll_map"
   ]
  },
  {
   "cell_type": "markdown",
   "metadata": {},
   "source": [
    "# Last layer implementation"
   ]
  },
  {
   "cell_type": "markdown",
   "metadata": {},
   "source": [
    "## Without Laplace"
   ]
  },
  {
   "cell_type": "code",
   "execution_count": 23,
   "metadata": {},
   "outputs": [
    {
     "name": "stdout",
     "output_type": "stream",
     "text": [
      "\n",
      "Test set: Accuracy: 9913/10000 (99%)\n",
      "\n",
      "Acc.: 100.0%; ECE: 1.7%; NLL: 0.0202\n"
     ]
    }
   ],
   "source": [
    "acc_map,ece_map,nll_map = predict(test_loader,model,laplace=False)\n",
    "print(f\"[MAP] Acc.: {acc_map:.1%}; ECE: {ece_map:.1%}; NLL: {nll_map:.3}\")"
   ]
  },
  {
   "cell_type": "markdown",
   "metadata": {},
   "source": [
    "## With Laplace"
   ]
  },
  {
   "cell_type": "code",
   "execution_count": 18,
   "metadata": {},
   "outputs": [],
   "source": [
    "la = Laplace(model, 'classification',\n",
    "             subset_of_weights='last_layer',\n",
    "             hessian_structure='kron')\n",
    "la.fit(train_loader)\n",
    "la.optimize_prior_precision(method='marglik')"
   ]
  },
  {
   "cell_type": "code",
   "execution_count": 21,
   "metadata": {},
   "outputs": [
    {
     "name": "stdout",
     "output_type": "stream",
     "text": [
      "\n",
      "Test set: Accuracy: 9915/10000 (99%)\n",
      "\n",
      "Acc.: 100.0%; ECE: 0.3%; NLL: 0.00351\n"
     ]
    }
   ],
   "source": [
    "acc_laplace,ece_laplace,nll_laplace = predict(test_loader, la, laplace=True)\n",
    "\n",
    "print(\n",
    "        f\"[Laplace] Acc.: {acc_laplace:.1%}; ECE: {ece_laplace:.1%}; NLL: {nll_laplace:.3}\"\n",
    "    )"
   ]
  },
  {
   "cell_type": "markdown",
   "metadata": {},
   "source": [
    "# Subnetwork implementation"
   ]
  },
  {
   "cell_type": "code",
   "execution_count": 44,
   "metadata": {},
   "outputs": [],
   "source": [
    "from laplace.baselaplace import FullLaplace\n",
    "from laplace.curvature.backpack import BackPackGGN\n",
    "from laplace.utils import ModuleNameSubnetMask"
   ]
  },
  {
   "cell_type": "code",
   "execution_count": 78,
   "metadata": {},
   "outputs": [
    {
     "name": "stdout",
     "output_type": "stream",
     "text": [
      "\n",
      "conv1\n",
      "pool1\n",
      "conv2\n",
      "conv2_drop\n",
      "pool2\n",
      "fc1\n",
      "fc2\n"
     ]
    }
   ],
   "source": [
    "for name,m in model.named_modules():\n",
    "    print(name)"
   ]
  },
  {
   "cell_type": "code",
   "execution_count": 45,
   "metadata": {},
   "outputs": [
    {
     "name": "stdout",
     "output_type": "stream",
     "text": [
      "start_laplace\n",
      "step 2\n",
      "step 3\n",
      "step 4\n",
      "fit\n"
     ]
    },
    {
     "name": "stderr",
     "output_type": "stream",
     "text": [
      "/Users/georgioszefkilis/anaconda3/anaconda3/envs/Bayesian_DL/lib/python3.8/site-packages/backpack/extensions/backprop_extension.py:106: UserWarning: Extension saving to grad_batch does not have an extension for Module <class '__main__.Net'> although the module has parameters\n",
      "  warnings.warn(\n"
     ]
    }
   ],
   "source": [
    "print('start_laplace')\n",
    "subnetwork_mask = ModuleNameSubnetMask(model, module_names=['fc1'])\n",
    "print('step 2')\n",
    "subnetwork_mask.select()\n",
    "print('step 3')\n",
    "subnetwork_indices = subnetwork_mask.indices\n",
    "print('step 4')\n",
    "sub_laplace = Laplace(\n",
    "    model,\n",
    "    \"classification\",\n",
    "    subset_of_weights=\"subnetwork\",\n",
    "    hessian_structure=\"full\",\n",
    "    subnetwork_indices = subnetwork_indices#.type(torch.LongTensor),\n",
    ")\n",
    "print('fit')\n",
    "sub_laplace.fit(train_loader)\n",
    "print('optimize')\n",
    "sub_laplace.prior_precision=torch.tensor([0.00001])\n",
    "\n",
    "#laplace.optimize_prior_precision(method=\"marglik\",val_loader=test_loader)"
   ]
  },
  {
   "cell_type": "code",
   "execution_count": 80,
   "metadata": {},
   "outputs": [
    {
     "name": "stdout",
     "output_type": "stream",
     "text": [
      "\n",
      "Test set: Accuracy: 9903.0/10000 (99%)\n",
      "\n",
      "Acc.: 100.0%; ECE: 4.0%; NLL: 0.0419\n"
     ]
    }
   ],
   "source": [
    "la_accuracy,acc_map,ece_map,nll_map = predict(sub_laplace,laplace=True)\n"
   ]
  },
  {
   "cell_type": "code",
   "execution_count": null,
   "metadata": {},
   "outputs": [],
   "source": [
    "acc_sublaplace,ece_sublaplace,nll_sublaplace = predict(test_loader, sub_laplace, laplace=True)\n",
    "\n",
    "print(\n",
    "        f\"[Subnetwork Laplace] Acc.: {acc_sublaplace:.1%}; ECE: {ece_sublaplace:.1%}; NLL: {nll_sublaplace:.3}\"\n",
    "    )"
   ]
  }
 ],
 "metadata": {
  "interpreter": {
   "hash": "5519e73fd253ddc2638f9eb90f462b822a94835075ef16496d7f936ba3e281cb"
  },
  "kernelspec": {
   "display_name": "Python 3.8.12 ('Bayesian_DL')",
   "language": "python",
   "name": "python3"
  },
  "language_info": {
   "codemirror_mode": {
    "name": "ipython",
    "version": 3
   },
   "file_extension": ".py",
   "mimetype": "text/x-python",
   "name": "python",
   "nbconvert_exporter": "python",
   "pygments_lexer": "ipython3",
   "version": "3.8.12"
  },
  "orig_nbformat": 4
 },
 "nbformat": 4,
 "nbformat_minor": 2
}
