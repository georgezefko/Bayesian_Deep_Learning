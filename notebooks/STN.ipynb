{
 "cells": [
  {
   "cell_type": "code",
   "execution_count": 16,
   "metadata": {},
   "outputs": [],
   "source": [
    "from __future__ import print_function\n",
    "import torch\n",
    "import torch.nn as nn\n",
    "import torch.nn.functional as F\n",
    "import torch.optim as optim\n",
    "import torchvision\n",
    "from torchvision import datasets, transforms\n",
    "from torch.utils.data import Dataset\n",
    "import matplotlib.pyplot as plt\n",
    "import numpy as np\n",
    "from torchvision.io import read_image\n",
    "import wandb\n",
    "plt.ion()"
   ]
  },
  {
   "cell_type": "code",
   "execution_count": 19,
   "metadata": {},
   "outputs": [
    {
     "name": "stderr",
     "output_type": "stream",
     "text": [
      "\u001b[34m\u001b[1mwandb\u001b[0m: Currently logged in as: \u001b[33mzefko\u001b[0m (use `wandb login --relogin` to force relogin)\n"
     ]
    },
    {
     "data": {
      "text/html": [
       "\n",
       "                    Syncing run <strong><a href=\"https://wandb.ai/zefko/Bayesian%20DL/runs/tsh8lx5m\" target=\"_blank\">STN_trial</a></strong> to <a href=\"https://wandb.ai/zefko/Bayesian%20DL\" target=\"_blank\">Weights & Biases</a> (<a href=\"https://docs.wandb.com/integrations/jupyter.html\" target=\"_blank\">docs</a>).<br/>\n",
       "\n",
       "                "
      ],
      "text/plain": [
       "<IPython.core.display.HTML object>"
      ]
     },
     "metadata": {},
     "output_type": "display_data"
    },
    {
     "data": {
      "text/html": [
       "<button onClick=\"this.nextSibling.style.display='block';this.style.display='none';\">Display W&B run</button><iframe src=\"https://wandb.ai/zefko/Bayesian%20DL/runs/tsh8lx5m?jupyter=true\" style=\"border:none;width:100%;height:420px;display:none;\"></iframe>"
      ],
      "text/plain": [
       "<wandb.sdk.wandb_run.Run at 0x7f4addd62350>"
      ]
     },
     "execution_count": 19,
     "metadata": {},
     "output_type": "execute_result"
    }
   ],
   "source": [
    "wandb.init(project=\"Bayesian DL\", name = 'STN_trial', entity=\"zefko\")"
   ]
  },
  {
   "cell_type": "code",
   "execution_count": 17,
   "metadata": {},
   "outputs": [],
   "source": [
    "wandb.config = {\n",
    "  \"learning_rate\": 0.001,\n",
    "  \"epochs\": 100,\n",
    "  \"batch_size\": 64\n",
    "}"
   ]
  },
  {
   "cell_type": "code",
   "execution_count": 20,
   "metadata": {},
   "outputs": [],
   "source": [
    "class MnistRandomPlacement(Dataset):\n",
    "\n",
    "  def __init__(self, crop_size, digits,mode,download=True):\n",
    "\n",
    "    self.datasets = []\n",
    "    self.cropsize = crop_size\n",
    "    self.download = download\n",
    "    self.digits = digits\n",
    "    self.mode = mode\n",
    "\n",
    "    # False (test) or True (train,val)\n",
    "    trainingset = self.mode in ['train', 'val']\n",
    "\n",
    "    self.datasets.append(datasets.MNIST('/content/',\n",
    "                        transform=transforms.Compose([\n",
    "                        transforms.ToTensor()]),\n",
    "                        train=trainingset,\n",
    "                        download=self.download))\n",
    "\n",
    "    # self.datasets.append(datasets.KMNIST(opt.dataroot,\n",
    "    #                     transform=transforms.Compose([\n",
    "    #                     transforms.ToTensor()]),\n",
    "    #                     train=trainingset,\n",
    "    #                     download=opt.download))\n",
    "\n",
    "    self.num_images = self.digits\n",
    "\n",
    "  def __len__(self):\n",
    "    return min([self.datasets[0].__len__() for i in range(self.num_images)])\n",
    "\n",
    "  def __getitem__(self, idx):\n",
    "\n",
    "    im = torch.zeros((1, 96, 96), dtype=torch.float)\n",
    "\n",
    "    used_positions, target = [], ''\n",
    "    for i in range(self.num_images):\n",
    "      while True:\n",
    "        x = np.random.randint(0, 96 - 32)\n",
    "        if len(used_positions) == 0 or abs(used_positions[0][0] - x) > 32:\n",
    "          break\n",
    "      while True:\n",
    "        y = np.random.randint(0, 96 - 32)\n",
    "        if len(used_positions) == 0 or abs(used_positions[0][1] - y) > 32:\n",
    "          break\n",
    "\n",
    "      im1, target1 = self.datasets[i].__getitem__((idx) * (i + 1) % self.datasets[i].__len__())\n",
    "\n",
    "      c, w, h = im1.shape\n",
    "\n",
    "      im[:, y:y + h, x:x + w] = im1.type(torch.float)\n",
    "      #print('created image', im.shape, 'x:', x, 'y:', y)\n",
    "\n",
    "      target += str(target1)\n",
    "\n",
    "      transform = transforms.Compose(\n",
    "      [transforms.ToPILImage(),transforms.Resize(self.cropsize), transforms.ToTensor(),#, transforms.RandomRotation(degrees=(0,180))\n",
    "      transforms.Normalize((0.1307,), (0.3081,))])\n",
    "      im = transform(im)\n",
    "\n",
    "      \n",
    "\n",
    "      return im,int(target)"
   ]
  },
  {
   "cell_type": "code",
   "execution_count": 21,
   "metadata": {},
   "outputs": [],
   "source": [
    "train_mnist = MnistRandomPlacement(28,10,'train',True)\n",
    "test_mnist = MnistRandomPlacement(28,10,'test',True)"
   ]
  },
  {
   "cell_type": "code",
   "execution_count": 34,
   "metadata": {},
   "outputs": [
    {
     "name": "stdout",
     "output_type": "stream",
     "text": [
      "0 torch.Size([1, 28, 28]) 5\n",
      "1 torch.Size([1, 28, 28]) 0\n",
      "2 torch.Size([1, 28, 28]) 4\n",
      "3 torch.Size([1, 28, 28]) 1\n",
      "4 torch.Size([1, 28, 28]) 9\n"
     ]
    },
    {
     "data": {
      "image/png": "[encoded data removed]",
      "text/plain": [
       "<Figure size 432x288 with 5 Axes>"
      ]
     },
     "metadata": {
      "needs_background": "light"
     },
     "output_type": "display_data"
    }
   ],
   "source": [
    "fig = plt.figure()\n",
    "\n",
    "for i in range(len(train_mnist.datasets[0])):\n",
    "    image,label = train_mnist[i]\n",
    "\n",
    "    print(i, image.shape, label)\n",
    "\n",
    "    ax = plt.subplot(1, 5, i + 1)\n",
    "    plt.tight_layout()\n",
    "    ax.set_title('Sample #{}'.format(i))\n",
    "    ax.axis('off')\n",
    "    ax.imshow(image[0,:,:].numpy())\n",
    "\n",
    "\n",
    "\n",
    "\n",
    "    if i == 4:\n",
    "        plt.show()\n",
    "        break\n",
    "wandb.log({'MNIST examples': wandb.Image(ax)})"
   ]
  },
  {
   "cell_type": "code",
   "execution_count": 35,
   "metadata": {},
   "outputs": [],
   "source": [
    "from six.moves import urllib\n",
    "opener = urllib.request.build_opener()\n",
    "opener.addheaders = [('User-agent', 'Mozilla/5.0')]\n",
    "urllib.request.install_opener(opener)\n",
    "\n",
    "device = torch.device(\"cuda\" if torch.cuda.is_available() else \"cpu\")\n",
    "\n",
    "# Training dataset\n",
    "# train_loader = torch.utils.data.DataLoader(\n",
    "#     datasets.MNIST(root='.', train=True, download=True,\n",
    "#                    transform=transforms.Compose([\n",
    "#                        transforms.ToTensor(),\n",
    "#                        transforms.Normalize((0.1307,), (0.3081,))\n",
    "#                    ])), batch_size=64, shuffle=True, num_workers=4)\n",
    "\n",
    "# Training dataset random placement\n",
    "train_loader = torch.utils.data.DataLoader(train_mnist, batch_size=64, shuffle=True, num_workers=2)\n",
    "\n",
    "\n",
    "# Test dataset\n",
    "# test_loader = torch.utils.data.DataLoader(\n",
    "#     datasets.MNIST(root='.', train=False, transform=transforms.Compose([\n",
    "#         transforms.ToTensor(),\n",
    "#         transforms.Normalize((0.1307,), (0.3081,))\n",
    "#     ])), batch_size=64, shuffle=True, num_workers=4)\n",
    "\n",
    "\n",
    "# Test dataset random placement mnist\n",
    "test_loader = torch.utils.data.DataLoader(test_mnist, batch_size=64, shuffle=True, num_workers=2)"
   ]
  },
  {
   "cell_type": "code",
   "execution_count": 29,
   "metadata": {},
   "outputs": [
    {
     "data": {
      "text/plain": [
       "device(type='cuda')"
      ]
     },
     "execution_count": 29,
     "metadata": {},
     "output_type": "execute_result"
    }
   ],
   "source": [
    "device"
   ]
  },
  {
   "cell_type": "code",
   "execution_count": 36,
   "metadata": {},
   "outputs": [
    {
     "name": "stdout",
     "output_type": "stream",
     "text": [
      "Feature batch shape: torch.Size([64, 1, 28, 28])\n",
      "Labels batch shape: torch.Size([64])\n"
     ]
    },
    {
     "data": {
      "image/png": "[encoded data removed]",
      "text/plain": [
       "<Figure size 432x288 with 1 Axes>"
      ]
     },
     "metadata": {
      "needs_background": "light"
     },
     "output_type": "display_data"
    },
    {
     "name": "stdout",
     "output_type": "stream",
     "text": [
      "Label: 8\n"
     ]
    }
   ],
   "source": [
    "train_features, train_labels = next(iter(train_loader))\n",
    "print(f\"Feature batch shape: {train_features.size()}\")\n",
    "print(f\"Labels batch shape: {train_labels.size()}\")\n",
    "img = train_features[1].squeeze()\n",
    "label = train_labels[1]\n",
    "plt.imshow(img, cmap=\"gray\")\n",
    "plt.show()\n",
    "print(f\"Label: {label}\")"
   ]
  },
  {
   "cell_type": "code",
   "execution_count": 44,
   "metadata": {},
   "outputs": [],
   "source": [
    "preview_dt = wandb.Table(columns=[\"id\", \"image\", \"label\", \"split\"])"
   ]
  },
  {
   "cell_type": "code",
   "execution_count": 53,
   "metadata": {},
   "outputs": [
    {
     "data": {
      "image/png": "[encoded data removed]",
      "text/plain": [
       "<Figure size 432x288 with 10 Axes>"
      ]
     },
     "metadata": {
      "needs_background": "light"
     },
     "output_type": "display_data"
    }
   ],
   "source": [
    "for i in range(10):\n",
    "    label = train_labels[i]\n",
    "    plt.subplot(2, 5, i+1)\n",
    "    plt.imshow(train_features[i][0], cmap='gray')\n",
    "    plt.title(label)\n",
    "    #print(f\"Label: {label}\")\n",
    "    preview_dt.add_data(i,wandb.Image(train_features[i]),label,'train')\n",
    "wandb.log({'Train Input':preview_dt})"
   ]
  },
  {
   "cell_type": "code",
   "execution_count": 54,
   "metadata": {},
   "outputs": [
    {
     "data": {
      "text/html": [
       "<br/>Waiting for W&B process to finish, PID 3928... <strong style=\"color:green\">(success).</strong>"
      ],
      "text/plain": [
       "<IPython.core.display.HTML object>"
      ]
     },
     "metadata": {},
     "output_type": "display_data"
    },
    {
     "data": {
      "application/vnd.jupyter.widget-view+json": {
       "model_id": "93f363289e9740bab2f7688a03ac68ad",
       "version_major": 2,
       "version_minor": 0
      },
      "text/plain": [
       "VBox(children=(Label(value=' 0.02MB of 0.02MB uploaded (0.00MB deduped)\\r'), FloatProgress(value=1.0, max=1.0)…"
      ]
     },
     "metadata": {},
     "output_type": "display_data"
    },
    {
     "name": "stderr",
     "output_type": "stream",
     "text": [
      "\u001b[34m\u001b[1mwandb\u001b[0m: \u001b[32m\u001b[41mERROR\u001b[0m Problem finishing run\n",
      "Traceback (most recent call last):\n",
      "  File \"/usr/local/lib/python3.7/dist-packages/wandb/sdk/wandb_run.py\", line 1805, in _atexit_cleanup\n",
      "    self._on_finish()\n",
      "  File \"/usr/local/lib/python3.7/dist-packages/wandb/sdk/wandb_run.py\", line 1988, in _on_finish\n",
      "    self._poll_exit_response = self._wait_for_finish()\n",
      "  File \"/usr/local/lib/python3.7/dist-packages/wandb/sdk/wandb_run.py\", line 1935, in _wait_for_finish\n",
      "    self._on_finish_progress(pusher_stats, done)\n",
      "  File \"/usr/local/lib/python3.7/dist-packages/wandb/sdk/wandb_run.py\", line 1923, in _on_finish_progress\n",
      "    self._pusher_print_status(progress, done=done)\n",
      "  File \"/usr/local/lib/python3.7/dist-packages/wandb/sdk/wandb_run.py\", line 1899, in _pusher_print_status\n",
      "    self._jupyter_progress.close()\n",
      "  File \"/usr/local/lib/python3.7/dist-packages/wandb/sdk/lib/ipython.py\", line 97, in close\n",
      "    self._widget.close()\n",
      "  File \"/usr/local/lib/python3.7/dist-packages/ipywidgets/widgets/widget.py\", line 469, in close\n",
      "    self.comm.close()\n",
      "  File \"/usr/local/lib/python3.7/dist-packages/ipykernel/comm/comm.py\", line 116, in close\n",
      "    self.kernel.comm_manager.unregister_comm(self)\n",
      "  File \"/usr/local/lib/python3.7/dist-packages/ipykernel/comm/manager.py\", line 56, in unregister_comm\n",
      "    comm = self.comms.pop(comm.comm_id)\n",
      "KeyError: '93f363289e9740bab2f7688a03ac68ad'\n"
     ]
    }
   ],
   "source": [
    "wandb.finish()"
   ]
  },
  {
   "cell_type": "code",
   "execution_count": 46,
   "metadata": {},
   "outputs": [],
   "source": [
    "class Net(nn.Module):\n",
    "    def __init__(self):\n",
    "        super(Net, self).__init__()\n",
    "        self.conv1 = nn.Conv2d(1, 10, kernel_size=5)\n",
    "        self.conv2 = nn.Conv2d(10, 20, kernel_size=5)\n",
    "        self.conv2_drop = nn.Dropout2d()\n",
    "        #self.conv3 = nn.Conv2d(20, 30, kernel_size=5)\n",
    "        #self.conv3_drop = nn.Dropout2d()\n",
    "        self.fc1 = nn.Linear(320, 50) #original\n",
    "        #self.fc1 = nn.Linear(16820, 50)\n",
    "        self.fc2 = nn.Linear(50, 10)\n",
    "\n",
    "        # Spatial transformer localization-network\n",
    "        self.localization = nn.Sequential(\n",
    "            nn.Conv2d(1, 8, kernel_size=7),\n",
    "            nn.MaxPool2d(2, stride=2),\n",
    "            nn.ReLU(True),\n",
    "            nn.Conv2d(8, 10, kernel_size=5),\n",
    "            nn.MaxPool2d(2, stride=2),\n",
    "            nn.ReLU(True)\n",
    "        )\n",
    "\n",
    "#apply laplace to the last linera layer for the first attempt\n",
    "        # Regressor for the 3 * 2 affine matrix\n",
    "        self.fc_loc = nn.Sequential(\n",
    "            nn.Linear(10 * 3 * 3, 32),#original\n",
    "            #nn.Linear(10 * 28* 28, 32),\n",
    "            nn.ReLU(True),\n",
    "            nn.Linear(32, 3 * 2)\n",
    "        )\n",
    "\n",
    "        # Initialize the weights/bias with identity transformation\n",
    "        self.fc_loc[2].weight.data.zero_()\n",
    "        self.fc_loc[2].bias.data.copy_(torch.tensor([1, 0, 0, 0, 1, 0], dtype=torch.float))\n",
    "\n",
    "    # Spatial transformer network forward function\n",
    "    def stn(self, x):\n",
    "        #print('x',x.size())\n",
    "        xs = self.localization(x)\n",
    "\n",
    "        #print('xs',xs.size())\n",
    "        xs = xs.view(-1, 10 * 3 * 3) #original\n",
    "        #xs = xs.view(-1, 10 * 28 * 28)\n",
    "\n",
    "        #print('xs view',xs.size())\n",
    "        theta = self.fc_loc(xs)\n",
    "\n",
    "        #print('theta before view',theta.shape)\n",
    "        theta = theta.view(-1, 2, 3)\n",
    "        #print('theta',theta.shape)\n",
    "        #print('size',x.size())\n",
    "\n",
    "\n",
    "        grid = F.affine_grid(theta, x.size(),align_corners =True)\n",
    "        x = F.grid_sample(x, grid)\n",
    "\n",
    "        return x\n",
    "\n",
    "    def forward(self, x):\n",
    "\n",
    "        #print('input',x.size())\n",
    "        # transform the input\n",
    "        x = self.stn(x)\n",
    "\n",
    "        #print('transform',x.size())\n",
    "        # Perform the usual forward pass\n",
    "        x = F.relu(F.max_pool2d(self.conv1(x), 2))\n",
    "        #print('forward1',x.size())\n",
    "\n",
    "        x = F.relu(F.max_pool2d(self.conv2_drop(self.conv2(x)), 2))\n",
    "        #print('forward2',x.size())\n",
    "\n",
    "        #x = F.relu(F.max_pool2d(self.conv3_drop(self.conv3(x)), 2))\n",
    "        #print('forward2+',x.size())\n",
    "\n",
    "        x = x.view(-1, 320) #original\n",
    "        #x = x.view(-1, 16820)\n",
    "\n",
    "        #print('forward3',x.size())\n",
    "\n",
    "        x = F.relu(self.fc1(x))\n",
    "        #print('forward4',x.size())\n",
    "\n",
    "        x = F.dropout(x, training=self.training)\n",
    "        #print('forward5',x.size())\n",
    "\n",
    "        x = self.fc2(x)\n",
    "        #print('forward6',x.size())\n",
    "\n",
    "        return F.log_softmax(x, dim=1)\n",
    "\n",
    "\n",
    "model = Net().to(device)"
   ]
  },
  {
   "cell_type": "code",
   "execution_count": 47,
   "metadata": {},
   "outputs": [
    {
     "name": "stdout",
     "output_type": "stream",
     "text": [
      "Net(\n",
      "  (conv1): Conv2d(1, 10, kernel_size=(5, 5), stride=(1, 1))\n",
      "  (conv2): Conv2d(10, 20, kernel_size=(5, 5), stride=(1, 1))\n",
      "  (conv2_drop): Dropout2d(p=0.5, inplace=False)\n",
      "  (fc1): Linear(in_features=320, out_features=50, bias=True)\n",
      "  (fc2): Linear(in_features=50, out_features=10, bias=True)\n",
      "  (localization): Sequential(\n",
      "    (0): Conv2d(1, 8, kernel_size=(7, 7), stride=(1, 1))\n",
      "    (1): MaxPool2d(kernel_size=2, stride=2, padding=0, dilation=1, ceil_mode=False)\n",
      "    (2): ReLU(inplace=True)\n",
      "    (3): Conv2d(8, 10, kernel_size=(5, 5), stride=(1, 1))\n",
      "    (4): MaxPool2d(kernel_size=2, stride=2, padding=0, dilation=1, ceil_mode=False)\n",
      "    (5): ReLU(inplace=True)\n",
      "  )\n",
      "  (fc_loc): Sequential(\n",
      "    (0): Linear(in_features=90, out_features=32, bias=True)\n",
      "    (1): ReLU(inplace=True)\n",
      "    (2): Linear(in_features=32, out_features=6, bias=True)\n",
      "  )\n",
      ")\n"
     ]
    }
   ],
   "source": [
    "print(model)"
   ]
  },
  {
   "cell_type": "code",
   "execution_count": 49,
   "metadata": {},
   "outputs": [],
   "source": [
    "optimizer = optim.SGD(model.parameters(), lr=0.01)\n",
    "\n",
    "\n",
    "def train(epoch):\n",
    "    wandb.watch(model, optimizer,log=\"all\", log_freq=10)\n",
    "    model.train()\n",
    "    for batch_idx, (data, target) in enumerate(train_loader):\n",
    "        data, target = data.to(device), target.to(device)\n",
    "\n",
    "        optimizer.zero_grad()\n",
    "        output = model(data)\n",
    "        loss = F.nll_loss(output, target)\n",
    "        loss.backward()\n",
    "        optimizer.step()\n",
    "        if batch_idx % 500 == 0:\n",
    "            wandb.log({\"epoch\": epoch, \"loss\": loss.item()})\n",
    "            print('Train Epoch: {} [{}/{} ({:.0f}%)]\\tLoss: {:.6f}'.format(\n",
    "                epoch, batch_idx * len(data), len(train_loader.dataset),\n",
    "                100. * batch_idx / len(train_loader), loss.item()))"
   ]
  },
  {
   "cell_type": "code",
   "execution_count": 50,
   "metadata": {},
   "outputs": [],
   "source": [
    "def test():\n",
    "    with torch.no_grad():\n",
    "        model.eval()\n",
    "        test_loss = 0\n",
    "        correct = 0\n",
    "        for data, target in test_loader:\n",
    "            data, target = data.to(device), target.to(device)\n",
    "            output = model(data)\n",
    "\n",
    "            # sum up batch loss\n",
    "            test_loss += F.nll_loss(output, target, size_average=False).item()\n",
    "            # get the index of the max log-probability\n",
    "            pred = output.max(1, keepdim=True)[1]\n",
    "            correct += pred.eq(target.view_as(pred)).sum().item()\n",
    "\n",
    "        test_loss /= len(test_loader.dataset)\n",
    "        wandb.log({\"test loss\": test_loss})\n",
    "\n",
    "        print('\\nTest set: Average loss: {:.4f}, Accuracy: {}/{} ({:.0f}%)\\n'\n",
    "              .format(test_loss, correct, len(test_loader.dataset),\n",
    "                      100. * correct / len(test_loader.dataset)))"
   ]
  },
  {
   "cell_type": "code",
   "execution_count": 12,
   "metadata": {},
   "outputs": [],
   "source": [
    "def convert_image_np(inp):\n",
    "    \"\"\"Convert a Tensor to numpy image.\"\"\"\n",
    "    inp = inp.numpy().transpose((1, 2, 0))\n",
    "    mean = np.array([0.485, 0.456, 0.406])\n",
    "    std = np.array([0.229, 0.224, 0.225])\n",
    "    inp = std * inp + mean\n",
    "    inp = np.clip(inp, 0, 1)\n",
    "    return inp"
   ]
  },
  {
   "cell_type": "code",
   "execution_count": 51,
   "metadata": {},
   "outputs": [
    {
     "name": "stderr",
     "output_type": "stream",
     "text": [
      "/usr/local/lib/python3.7/dist-packages/torch/nn/functional.py:4004: UserWarning:\n",
      "\n",
      "Default grid_sample and affine_grid behavior has changed to align_corners=False since 1.3.0. Please specify align_corners=True if the old behavior is desired. See the documentation of grid_sample for details.\n",
      "\n"
     ]
    },
    {
     "name": "stdout",
     "output_type": "stream",
     "text": [
      "Train Epoch: 1 [0/60000 (0%)]\tLoss: 2.306885\n",
      "Train Epoch: 1 [32000/60000 (53%)]\tLoss: 2.307741\n"
     ]
    },
    {
     "name": "stderr",
     "output_type": "stream",
     "text": [
      "/usr/local/lib/python3.7/dist-packages/torch/nn/_reduction.py:42: UserWarning:\n",
      "\n",
      "size_average and reduce args will be deprecated, please use reduction='sum' instead.\n",
      "\n"
     ]
    },
    {
     "name": "stdout",
     "output_type": "stream",
     "text": [
      "\n",
      "Test set: Average loss: 2.2997, Accuracy: 1439/10000 (14%)\n",
      "\n",
      "Train Epoch: 2 [0/60000 (0%)]\tLoss: 2.299720\n",
      "Train Epoch: 2 [32000/60000 (53%)]\tLoss: 2.300446\n",
      "\n",
      "Test set: Average loss: 2.2913, Accuracy: 1561/10000 (16%)\n",
      "\n",
      "Train Epoch: 3 [0/60000 (0%)]\tLoss: 2.287234\n",
      "Train Epoch: 3 [32000/60000 (53%)]\tLoss: 2.284089\n",
      "\n",
      "Test set: Average loss: 2.2578, Accuracy: 1782/10000 (18%)\n",
      "\n",
      "Train Epoch: 4 [0/60000 (0%)]\tLoss: 2.268181\n",
      "Train Epoch: 4 [32000/60000 (53%)]\tLoss: 2.228454\n",
      "\n",
      "Test set: Average loss: 2.1956, Accuracy: 1947/10000 (19%)\n",
      "\n",
      "Train Epoch: 5 [0/60000 (0%)]\tLoss: 2.133359\n",
      "Train Epoch: 5 [32000/60000 (53%)]\tLoss: 2.169870\n",
      "\n",
      "Test set: Average loss: 2.1461, Accuracy: 2096/10000 (21%)\n",
      "\n",
      "Train Epoch: 6 [0/60000 (0%)]\tLoss: 2.171651\n",
      "Train Epoch: 6 [32000/60000 (53%)]\tLoss: 2.113768\n",
      "\n",
      "Test set: Average loss: 2.0961, Accuracy: 2198/10000 (22%)\n",
      "\n",
      "Train Epoch: 7 [0/60000 (0%)]\tLoss: 2.104756\n",
      "Train Epoch: 7 [32000/60000 (53%)]\tLoss: 2.045749\n",
      "\n",
      "Test set: Average loss: 2.0208, Accuracy: 2375/10000 (24%)\n",
      "\n",
      "Train Epoch: 8 [0/60000 (0%)]\tLoss: 2.102748\n",
      "Train Epoch: 8 [32000/60000 (53%)]\tLoss: 2.017626\n",
      "\n",
      "Test set: Average loss: 1.9810, Accuracy: 2361/10000 (24%)\n",
      "\n",
      "Train Epoch: 9 [0/60000 (0%)]\tLoss: 2.080063\n",
      "Train Epoch: 9 [32000/60000 (53%)]\tLoss: 2.186505\n",
      "\n",
      "Test set: Average loss: 1.9312, Accuracy: 2613/10000 (26%)\n",
      "\n",
      "Train Epoch: 10 [0/60000 (0%)]\tLoss: 1.993711\n",
      "Train Epoch: 10 [32000/60000 (53%)]\tLoss: 2.048718\n",
      "\n",
      "Test set: Average loss: 1.8411, Accuracy: 2989/10000 (30%)\n",
      "\n",
      "Train Epoch: 11 [0/60000 (0%)]\tLoss: 1.976205\n",
      "Train Epoch: 11 [32000/60000 (53%)]\tLoss: 1.714423\n",
      "\n",
      "Test set: Average loss: 1.7486, Accuracy: 3331/10000 (33%)\n",
      "\n",
      "Train Epoch: 12 [0/60000 (0%)]\tLoss: 1.905603\n",
      "Train Epoch: 12 [32000/60000 (53%)]\tLoss: 1.944880\n",
      "\n",
      "Test set: Average loss: 1.6445, Accuracy: 3552/10000 (36%)\n",
      "\n",
      "Train Epoch: 13 [0/60000 (0%)]\tLoss: 1.814698\n",
      "Train Epoch: 13 [32000/60000 (53%)]\tLoss: 1.643364\n",
      "\n",
      "Test set: Average loss: 1.5758, Accuracy: 3780/10000 (38%)\n",
      "\n",
      "Train Epoch: 14 [0/60000 (0%)]\tLoss: 1.514639\n",
      "Train Epoch: 14 [32000/60000 (53%)]\tLoss: 1.606167\n",
      "\n",
      "Test set: Average loss: 1.5995, Accuracy: 3953/10000 (40%)\n",
      "\n",
      "Train Epoch: 15 [0/60000 (0%)]\tLoss: 1.786065\n",
      "Train Epoch: 15 [32000/60000 (53%)]\tLoss: 1.709171\n",
      "\n",
      "Test set: Average loss: 1.4081, Accuracy: 5108/10000 (51%)\n",
      "\n",
      "Train Epoch: 16 [0/60000 (0%)]\tLoss: 1.618745\n",
      "Train Epoch: 16 [32000/60000 (53%)]\tLoss: 1.436280\n",
      "\n",
      "Test set: Average loss: 1.2931, Accuracy: 5564/10000 (56%)\n",
      "\n",
      "Train Epoch: 17 [0/60000 (0%)]\tLoss: 1.342830\n",
      "Train Epoch: 17 [32000/60000 (53%)]\tLoss: 1.393764\n",
      "\n",
      "Test set: Average loss: 1.3461, Accuracy: 5447/10000 (54%)\n",
      "\n",
      "Train Epoch: 18 [0/60000 (0%)]\tLoss: 1.681072\n",
      "Train Epoch: 18 [32000/60000 (53%)]\tLoss: 1.107394\n",
      "\n",
      "Test set: Average loss: 1.0149, Accuracy: 6723/10000 (67%)\n",
      "\n",
      "Train Epoch: 19 [0/60000 (0%)]\tLoss: 1.148275\n",
      "Train Epoch: 19 [32000/60000 (53%)]\tLoss: 1.093628\n",
      "\n",
      "Test set: Average loss: 0.8375, Accuracy: 7512/10000 (75%)\n",
      "\n",
      "Train Epoch: 20 [0/60000 (0%)]\tLoss: 1.064854\n",
      "Train Epoch: 20 [32000/60000 (53%)]\tLoss: 0.867631\n",
      "\n",
      "Test set: Average loss: 0.7491, Accuracy: 7709/10000 (77%)\n",
      "\n",
      "Train Epoch: 21 [0/60000 (0%)]\tLoss: 1.032625\n",
      "Train Epoch: 21 [32000/60000 (53%)]\tLoss: 1.043231\n",
      "\n",
      "Test set: Average loss: 0.6584, Accuracy: 7961/10000 (80%)\n",
      "\n",
      "Train Epoch: 22 [0/60000 (0%)]\tLoss: 1.363205\n",
      "Train Epoch: 22 [32000/60000 (53%)]\tLoss: 0.659405\n",
      "\n",
      "Test set: Average loss: 0.8295, Accuracy: 7312/10000 (73%)\n",
      "\n",
      "Train Epoch: 23 [0/60000 (0%)]\tLoss: 1.424728\n",
      "Train Epoch: 23 [32000/60000 (53%)]\tLoss: 0.865257\n",
      "\n",
      "Test set: Average loss: 0.4721, Accuracy: 8681/10000 (87%)\n",
      "\n",
      "Train Epoch: 24 [0/60000 (0%)]\tLoss: 0.742816\n",
      "Train Epoch: 24 [32000/60000 (53%)]\tLoss: 0.904777\n",
      "\n",
      "Test set: Average loss: 0.4201, Accuracy: 8790/10000 (88%)\n",
      "\n",
      "Train Epoch: 25 [0/60000 (0%)]\tLoss: 0.431579\n",
      "Train Epoch: 25 [32000/60000 (53%)]\tLoss: 0.565528\n",
      "\n",
      "Test set: Average loss: 0.5111, Accuracy: 8497/10000 (85%)\n",
      "\n",
      "Train Epoch: 26 [0/60000 (0%)]\tLoss: 0.707189\n",
      "Train Epoch: 26 [32000/60000 (53%)]\tLoss: 0.530510\n",
      "\n",
      "Test set: Average loss: 0.4548, Accuracy: 8760/10000 (88%)\n",
      "\n",
      "Train Epoch: 27 [0/60000 (0%)]\tLoss: 0.604260\n",
      "Train Epoch: 27 [32000/60000 (53%)]\tLoss: 1.004811\n",
      "\n",
      "Test set: Average loss: 0.4176, Accuracy: 8811/10000 (88%)\n",
      "\n",
      "Train Epoch: 28 [0/60000 (0%)]\tLoss: 0.554169\n",
      "Train Epoch: 28 [32000/60000 (53%)]\tLoss: 0.736967\n",
      "\n",
      "Test set: Average loss: 0.5585, Accuracy: 8314/10000 (83%)\n",
      "\n",
      "Train Epoch: 29 [0/60000 (0%)]\tLoss: 0.772247\n",
      "Train Epoch: 29 [32000/60000 (53%)]\tLoss: 0.578643\n",
      "\n",
      "Test set: Average loss: 0.4946, Accuracy: 8487/10000 (85%)\n",
      "\n",
      "Train Epoch: 30 [0/60000 (0%)]\tLoss: 0.782214\n",
      "Train Epoch: 30 [32000/60000 (53%)]\tLoss: 0.989217\n",
      "\n",
      "Test set: Average loss: 0.5422, Accuracy: 8285/10000 (83%)\n",
      "\n",
      "Train Epoch: 31 [0/60000 (0%)]\tLoss: 1.037729\n",
      "Train Epoch: 31 [32000/60000 (53%)]\tLoss: 0.510116\n",
      "\n",
      "Test set: Average loss: 0.4360, Accuracy: 8696/10000 (87%)\n",
      "\n",
      "Train Epoch: 32 [0/60000 (0%)]\tLoss: 1.187025\n",
      "Train Epoch: 32 [32000/60000 (53%)]\tLoss: 0.666798\n",
      "\n",
      "Test set: Average loss: 0.3433, Accuracy: 9012/10000 (90%)\n",
      "\n",
      "Train Epoch: 33 [0/60000 (0%)]\tLoss: 0.628394\n",
      "Train Epoch: 33 [32000/60000 (53%)]\tLoss: 0.739571\n",
      "\n",
      "Test set: Average loss: 0.4323, Accuracy: 8665/10000 (87%)\n",
      "\n",
      "Train Epoch: 34 [0/60000 (0%)]\tLoss: 0.525968\n",
      "Train Epoch: 34 [32000/60000 (53%)]\tLoss: 0.488148\n",
      "\n",
      "Test set: Average loss: 0.3386, Accuracy: 9057/10000 (91%)\n",
      "\n",
      "Train Epoch: 35 [0/60000 (0%)]\tLoss: 0.641522\n",
      "Train Epoch: 35 [32000/60000 (53%)]\tLoss: 0.482309\n",
      "\n",
      "Test set: Average loss: 0.3051, Accuracy: 9100/10000 (91%)\n",
      "\n",
      "Train Epoch: 36 [0/60000 (0%)]\tLoss: 0.570920\n",
      "Train Epoch: 36 [32000/60000 (53%)]\tLoss: 0.825839\n",
      "\n",
      "Test set: Average loss: 0.3042, Accuracy: 9139/10000 (91%)\n",
      "\n",
      "Train Epoch: 37 [0/60000 (0%)]\tLoss: 0.569839\n",
      "Train Epoch: 37 [32000/60000 (53%)]\tLoss: 0.588277\n",
      "\n",
      "Test set: Average loss: 0.3006, Accuracy: 9147/10000 (91%)\n",
      "\n",
      "Train Epoch: 38 [0/60000 (0%)]\tLoss: 0.663293\n",
      "Train Epoch: 38 [32000/60000 (53%)]\tLoss: 0.364121\n",
      "\n",
      "Test set: Average loss: 0.3185, Accuracy: 9059/10000 (91%)\n",
      "\n",
      "Train Epoch: 39 [0/60000 (0%)]\tLoss: 0.569396\n",
      "Train Epoch: 39 [32000/60000 (53%)]\tLoss: 0.645748\n",
      "\n",
      "Test set: Average loss: 0.4481, Accuracy: 8712/10000 (87%)\n",
      "\n",
      "Train Epoch: 40 [0/60000 (0%)]\tLoss: 0.701559\n",
      "Train Epoch: 40 [32000/60000 (53%)]\tLoss: 0.261595\n",
      "\n",
      "Test set: Average loss: 0.3201, Accuracy: 9120/10000 (91%)\n",
      "\n",
      "Train Epoch: 41 [0/60000 (0%)]\tLoss: 0.482581\n",
      "Train Epoch: 41 [32000/60000 (53%)]\tLoss: 0.638463\n",
      "\n",
      "Test set: Average loss: 0.3407, Accuracy: 9031/10000 (90%)\n",
      "\n",
      "Train Epoch: 42 [0/60000 (0%)]\tLoss: 0.631761\n",
      "Train Epoch: 42 [32000/60000 (53%)]\tLoss: 0.375874\n",
      "\n",
      "Test set: Average loss: 0.3481, Accuracy: 8958/10000 (90%)\n",
      "\n",
      "Train Epoch: 43 [0/60000 (0%)]\tLoss: 0.646926\n",
      "Train Epoch: 43 [32000/60000 (53%)]\tLoss: 0.758654\n",
      "\n",
      "Test set: Average loss: 0.3182, Accuracy: 9105/10000 (91%)\n",
      "\n",
      "Train Epoch: 44 [0/60000 (0%)]\tLoss: 0.414463\n",
      "Train Epoch: 44 [32000/60000 (53%)]\tLoss: 0.646148\n",
      "\n",
      "Test set: Average loss: 0.2501, Accuracy: 9280/10000 (93%)\n",
      "\n",
      "Train Epoch: 45 [0/60000 (0%)]\tLoss: 0.565218\n",
      "Train Epoch: 45 [32000/60000 (53%)]\tLoss: 0.393873\n",
      "\n",
      "Test set: Average loss: 0.2420, Accuracy: 9292/10000 (93%)\n",
      "\n",
      "Train Epoch: 46 [0/60000 (0%)]\tLoss: 0.456528\n",
      "Train Epoch: 46 [32000/60000 (53%)]\tLoss: 0.526966\n",
      "\n",
      "Test set: Average loss: 0.5095, Accuracy: 8453/10000 (85%)\n",
      "\n",
      "Train Epoch: 47 [0/60000 (0%)]\tLoss: 0.731088\n",
      "Train Epoch: 47 [32000/60000 (53%)]\tLoss: 0.726446\n",
      "\n",
      "Test set: Average loss: 0.3008, Accuracy: 9097/10000 (91%)\n",
      "\n",
      "Train Epoch: 48 [0/60000 (0%)]\tLoss: 0.519953\n",
      "Train Epoch: 48 [32000/60000 (53%)]\tLoss: 0.554675\n"
     ]
    },
    {
     "ename": "KeyboardInterrupt",
     "evalue": "",
     "output_type": "error",
     "traceback": [
      "\u001b[0;31m---------------------------------------------------------------------------\u001b[0m",
      "\u001b[0;31mKeyboardInterrupt\u001b[0m                         Traceback (most recent call last)",
      "\u001b[0;32m<ipython-input-51-323f92df01e0>\u001b[0m in \u001b[0;36m<module>\u001b[0;34m()\u001b[0m\n\u001b[1;32m     22\u001b[0m \u001b[0;34m\u001b[0m\u001b[0m\n\u001b[1;32m     23\u001b[0m \u001b[0;32mfor\u001b[0m \u001b[0mepoch\u001b[0m \u001b[0;32min\u001b[0m \u001b[0mrange\u001b[0m\u001b[0;34m(\u001b[0m\u001b[0;36m1\u001b[0m\u001b[0;34m,\u001b[0m \u001b[0;36m100\u001b[0m \u001b[0;34m+\u001b[0m \u001b[0;36m1\u001b[0m\u001b[0;34m)\u001b[0m\u001b[0;34m:\u001b[0m\u001b[0;34m\u001b[0m\u001b[0;34m\u001b[0m\u001b[0m\n\u001b[0;32m---> 24\u001b[0;31m     \u001b[0mtrain\u001b[0m\u001b[0;34m(\u001b[0m\u001b[0mepoch\u001b[0m\u001b[0;34m)\u001b[0m\u001b[0;34m\u001b[0m\u001b[0;34m\u001b[0m\u001b[0m\n\u001b[0m\u001b[1;32m     25\u001b[0m     \u001b[0mtest\u001b[0m\u001b[0;34m(\u001b[0m\u001b[0;34m)\u001b[0m\u001b[0;34m\u001b[0m\u001b[0;34m\u001b[0m\u001b[0m\n\u001b[1;32m     26\u001b[0m \u001b[0;34m\u001b[0m\u001b[0m\n",
      "\u001b[0;32m<ipython-input-49-ece872082516>\u001b[0m in \u001b[0;36mtrain\u001b[0;34m(epoch)\u001b[0m\n\u001b[1;32m     11\u001b[0m         \u001b[0moutput\u001b[0m \u001b[0;34m=\u001b[0m \u001b[0mmodel\u001b[0m\u001b[0;34m(\u001b[0m\u001b[0mdata\u001b[0m\u001b[0;34m)\u001b[0m\u001b[0;34m\u001b[0m\u001b[0;34m\u001b[0m\u001b[0m\n\u001b[1;32m     12\u001b[0m         \u001b[0mloss\u001b[0m \u001b[0;34m=\u001b[0m \u001b[0mF\u001b[0m\u001b[0;34m.\u001b[0m\u001b[0mnll_loss\u001b[0m\u001b[0;34m(\u001b[0m\u001b[0moutput\u001b[0m\u001b[0;34m,\u001b[0m \u001b[0mtarget\u001b[0m\u001b[0;34m)\u001b[0m\u001b[0;34m\u001b[0m\u001b[0;34m\u001b[0m\u001b[0m\n\u001b[0;32m---> 13\u001b[0;31m         \u001b[0mloss\u001b[0m\u001b[0;34m.\u001b[0m\u001b[0mbackward\u001b[0m\u001b[0;34m(\u001b[0m\u001b[0;34m)\u001b[0m\u001b[0;34m\u001b[0m\u001b[0;34m\u001b[0m\u001b[0m\n\u001b[0m\u001b[1;32m     14\u001b[0m         \u001b[0moptimizer\u001b[0m\u001b[0;34m.\u001b[0m\u001b[0mstep\u001b[0m\u001b[0;34m(\u001b[0m\u001b[0;34m)\u001b[0m\u001b[0;34m\u001b[0m\u001b[0;34m\u001b[0m\u001b[0m\n\u001b[1;32m     15\u001b[0m         \u001b[0;32mif\u001b[0m \u001b[0mbatch_idx\u001b[0m \u001b[0;34m%\u001b[0m \u001b[0;36m500\u001b[0m \u001b[0;34m==\u001b[0m \u001b[0;36m0\u001b[0m\u001b[0;34m:\u001b[0m\u001b[0;34m\u001b[0m\u001b[0;34m\u001b[0m\u001b[0m\n",
      "\u001b[0;32m/usr/local/lib/python3.7/dist-packages/torch/_tensor.py\u001b[0m in \u001b[0;36mbackward\u001b[0;34m(self, gradient, retain_graph, create_graph, inputs)\u001b[0m\n\u001b[1;32m    305\u001b[0m                 \u001b[0mcreate_graph\u001b[0m\u001b[0;34m=\u001b[0m\u001b[0mcreate_graph\u001b[0m\u001b[0;34m,\u001b[0m\u001b[0;34m\u001b[0m\u001b[0;34m\u001b[0m\u001b[0m\n\u001b[1;32m    306\u001b[0m                 inputs=inputs)\n\u001b[0;32m--> 307\u001b[0;31m         \u001b[0mtorch\u001b[0m\u001b[0;34m.\u001b[0m\u001b[0mautograd\u001b[0m\u001b[0;34m.\u001b[0m\u001b[0mbackward\u001b[0m\u001b[0;34m(\u001b[0m\u001b[0mself\u001b[0m\u001b[0;34m,\u001b[0m \u001b[0mgradient\u001b[0m\u001b[0;34m,\u001b[0m \u001b[0mretain_graph\u001b[0m\u001b[0;34m,\u001b[0m \u001b[0mcreate_graph\u001b[0m\u001b[0;34m,\u001b[0m \u001b[0minputs\u001b[0m\u001b[0;34m=\u001b[0m\u001b[0minputs\u001b[0m\u001b[0;34m)\u001b[0m\u001b[0;34m\u001b[0m\u001b[0;34m\u001b[0m\u001b[0m\n\u001b[0m\u001b[1;32m    308\u001b[0m \u001b[0;34m\u001b[0m\u001b[0m\n\u001b[1;32m    309\u001b[0m     \u001b[0;32mdef\u001b[0m \u001b[0mregister_hook\u001b[0m\u001b[0;34m(\u001b[0m\u001b[0mself\u001b[0m\u001b[0;34m,\u001b[0m \u001b[0mhook\u001b[0m\u001b[0;34m)\u001b[0m\u001b[0;34m:\u001b[0m\u001b[0;34m\u001b[0m\u001b[0;34m\u001b[0m\u001b[0m\n",
      "\u001b[0;32m/usr/local/lib/python3.7/dist-packages/torch/autograd/__init__.py\u001b[0m in \u001b[0;36mbackward\u001b[0;34m(tensors, grad_tensors, retain_graph, create_graph, grad_variables, inputs)\u001b[0m\n\u001b[1;32m    154\u001b[0m     Variable._execution_engine.run_backward(\n\u001b[1;32m    155\u001b[0m         \u001b[0mtensors\u001b[0m\u001b[0;34m,\u001b[0m \u001b[0mgrad_tensors_\u001b[0m\u001b[0;34m,\u001b[0m \u001b[0mretain_graph\u001b[0m\u001b[0;34m,\u001b[0m \u001b[0mcreate_graph\u001b[0m\u001b[0;34m,\u001b[0m \u001b[0minputs\u001b[0m\u001b[0;34m,\u001b[0m\u001b[0;34m\u001b[0m\u001b[0;34m\u001b[0m\u001b[0m\n\u001b[0;32m--> 156\u001b[0;31m         allow_unreachable=True, accumulate_grad=True)  # allow_unreachable flag\n\u001b[0m\u001b[1;32m    157\u001b[0m \u001b[0;34m\u001b[0m\u001b[0m\n\u001b[1;32m    158\u001b[0m \u001b[0;34m\u001b[0m\u001b[0m\n",
      "\u001b[0;31mKeyboardInterrupt\u001b[0m: "
     ]
    }
   ],
   "source": [
    "def visualize_stn():\n",
    "    with torch.no_grad():\n",
    "        # Get a batch of training data\n",
    "        data = next(iter(test_loader))[0].to(device)\n",
    "\n",
    "        input_tensor = data.cpu()\n",
    "        transformed_input_tensor = model.stn(data).cpu()\n",
    "\n",
    "        in_grid = convert_image_np(\n",
    "            torchvision.utils.make_grid(input_tensor))\n",
    "\n",
    "        out_grid = convert_image_np(\n",
    "            torchvision.utils.make_grid(transformed_input_tensor))\n",
    "\n",
    "        # Plot the results side-by-side\n",
    "        f, axarr = plt.subplots(1, 2,figsize=(20,20))\n",
    "        axarr[0].imshow(in_grid)\n",
    "        axarr[0].set_title('Dataset Images')\n",
    "\n",
    "        axarr[1].imshow(out_grid)\n",
    "        axarr[1].set_title('Transformed Images')\n",
    "\n",
    "for epoch in range(1, 100 + 1):\n",
    "    train(epoch)\n",
    "    test()\n",
    "\n",
    "# Visualize the STN transformation on some input batch\n",
    "visualize_stn()\n",
    "wandb.log({'Final':wandb.Image(visualize_stn)})\n",
    "\n",
    "plt.ioff()\n",
    "plt.show()"
   ]
  },
  {
   "cell_type": "code",
   "execution_count": 55,
   "metadata": {},
   "outputs": [],
   "source": [
    "wandb.finish()"
   ]
  }
 ],
 "metadata": {
  "kernelspec": {
   "display_name": "Python 3",
   "language": "python",
   "name": "python3"
  },
  "language_info": {
   "codemirror_mode": {
    "name": "ipython",
    "version": 3
   },
   "file_extension": ".py",
   "mimetype": "text/x-python",
   "name": "python",
   "nbconvert_exporter": "python",
   "pygments_lexer": "ipython3",
   "version": "3.7.12"
  },
  "orig_nbformat": 4
 },
 "nbformat": 4,
 "nbformat_minor": 2
}
