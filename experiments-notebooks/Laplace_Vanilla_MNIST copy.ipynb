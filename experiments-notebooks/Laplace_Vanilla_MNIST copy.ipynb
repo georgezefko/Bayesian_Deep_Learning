{
 "cells": [
  {
   "cell_type": "code",
   "execution_count": 1,
   "metadata": {},
   "outputs": [],
   "source": [
    "from laplace.baselaplace import FullLaplace\n",
    "from laplace.curvature.backpack import BackPackGGN\n",
    "import numpy as np\n",
    "import torch\n",
    "\n",
    "from laplace import Laplace, marglik_training\n",
    "import torch\n",
    "from torchvision import datasets, transforms\n",
    "import torch.utils.data as data_utils\n",
    "import matplotlib.pyplot as plt\n",
    "import torchvision\n"
   ]
  },
  {
   "cell_type": "code",
   "execution_count": 2,
   "metadata": {},
   "outputs": [],
   "source": [
    "torch.backends.cudnn.deterministic = True\n",
    "torch.backends.cudnn.benchmark = True"
   ]
  },
  {
   "cell_type": "code",
   "execution_count": 3,
   "metadata": {},
   "outputs": [],
   "source": [
    "import torch.nn as nn\n"
   ]
  },
  {
   "cell_type": "code",
   "execution_count": 4,
   "metadata": {},
   "outputs": [],
   "source": [
    "import torch.nn.functional as F\n"
   ]
  },
  {
   "cell_type": "code",
   "execution_count": 5,
   "metadata": {},
   "outputs": [
    {
     "name": "stderr",
     "output_type": "stream",
     "text": [
      "<frozen importlib._bootstrap>:219: RuntimeWarning: scipy._lib.messagestream.MessageStream size changed, may indicate binary incompatibility. Expected 56 from C header, got 64 from PyObject\n"
     ]
    }
   ],
   "source": [
    "import torch.distributions as dists\n",
    "from netcal.metrics import ECE"
   ]
  },
  {
   "cell_type": "code",
   "execution_count": 6,
   "metadata": {},
   "outputs": [],
   "source": [
    "config = {\n",
    "    \"num_classes\":10,\n",
    "    \"kernel_size\": 5,\n",
    "    \"channels\":1,\n",
    "    \"filter_1_out\" :16,\n",
    "    \"filter_2_out\" :32,\n",
    "    \"enc_sizes\":[16,32],\n",
    "    \"padding\" :0,\n",
    "    \"stride\" :1, \n",
    "    \"pool\":2,\n",
    "    \"learning_rate\": 0.001,\n",
    "    \"epochs\": 20,\n",
    "    \"batch_size\": 64,\n",
    "    \"crop_size\":128\n",
    "}\n",
    "\n",
    "\n",
    "\n"
   ]
  },
  {
   "cell_type": "code",
   "execution_count": 7,
   "metadata": {},
   "outputs": [],
   "source": [
    "device = torch.device('cpu')"
   ]
  },
  {
   "cell_type": "code",
   "execution_count": 8,
   "metadata": {},
   "outputs": [],
   "source": [
    "train_loader = torch.utils.data.DataLoader(\n",
    "            datasets.MNIST(root='.', train=True, download=True,\n",
    "                        transform=transforms.Compose([\n",
    "                            transforms.ToTensor(),\n",
    "                            transforms.Normalize((0.1307,), (0.3081,))\n",
    "                        ])), batch_size=config[\"batch_size\"], shuffle=True, num_workers=2)"
   ]
  },
  {
   "cell_type": "code",
   "execution_count": 9,
   "metadata": {},
   "outputs": [],
   "source": [
    "test_loader = torch.utils.data.DataLoader(\n",
    "            datasets.MNIST(root='.', train=False, transform=transforms.Compose([\n",
    "                transforms.ToTensor(),\n",
    "                transforms.Normalize((0.1307,), (0.3081,))\n",
    "            ])), batch_size=config[\"batch_size\"], shuffle=True, num_workers=2)"
   ]
  },
  {
   "cell_type": "code",
   "execution_count": 10,
   "metadata": {},
   "outputs": [
    {
     "name": "stdout",
     "output_type": "stream",
     "text": [
      "28 28\n"
     ]
    }
   ],
   "source": [
    "train_features, train_labels = next(iter(train_loader))\n",
    "height = train_features.shape[2]\n",
    "width = train_features.shape[3]\n",
    "print(height,width)\n"
   ]
  },
  {
   "cell_type": "code",
   "execution_count": 11,
   "metadata": {},
   "outputs": [],
   "source": [
    "def conv_block(in_f, out_f, *args, **kwargs):\n",
    "    return nn.Sequential(\n",
    "        nn.Conv2d(in_f, out_f, *args, **kwargs),\n",
    "        nn.MaxPool2d(2, stride=2),\n",
    "        nn.BatchNorm2d(out_f),\n",
    "        nn.ReLU()\n",
    "    )\n",
    "\n",
    "\n",
    "\n",
    "\n",
    "class Base(nn.Module):\n",
    "    def __init__(self, enc_sizes, kernel, pad):\n",
    "        super().__init__()\n",
    "\n",
    "        \n",
    "        conv_blocks =[conv_block(in_f, out_f, kernel_size=kernel, padding=pad) \n",
    "                       for in_f, out_f in zip(enc_sizes, enc_sizes[1:])]\n",
    "\n",
    "        self.base_net = nn.Sequential(*conv_blocks)\n",
    "        \n",
    "\n",
    "    def forward(self,x):\n",
    "        x = self.base_net(x)\n",
    "    \n",
    "        return x\n",
    "\n",
    "class Net(nn.Module):\n",
    "    def __init__(self, in_c, enc_sizes, kernel, pad,n_classes):\n",
    "        super().__init__()\n",
    "    \n",
    "        self.enc_sizes = [in_c, *enc_sizes]\n",
    "        self.kernel = kernel\n",
    "        self.pad = pad\n",
    "        self.n_classes = n_classes\n",
    "        \n",
    "        self.base = Base(self.enc_sizes,self.kernel,self.pad)\n",
    "        self.fc1 = nn.Linear(\n",
    "            self.enc_sizes[-1] * 4* 4 , 50\n",
    "        )\n",
    "        self.fc2 = nn.Linear(50, self.n_classes)\n",
    "        \n",
    "\n",
    "    def forward(self,x):\n",
    "        \n",
    "        x = self.base(x)        \n",
    "        x = x.flatten(1)\n",
    "        x = F.relu(self.fc1(x))\n",
    "        x = F.dropout(x, training=self.training)\n",
    "        x = self.fc2(x)\n",
    "\n",
    "        return x"
   ]
  },
  {
   "cell_type": "code",
   "execution_count": 12,
   "metadata": {},
   "outputs": [],
   "source": [
    "model = Net(\n",
    "        config[\"channels\"],\n",
    "        config[\"enc_sizes\"],\n",
    "        config[\"kernel_size\"],\n",
    "        config[\"padding\"],\n",
    "        config[\"num_classes\"]).to(device).eval()"
   ]
  },
  {
   "cell_type": "code",
   "execution_count": 13,
   "metadata": {},
   "outputs": [
    {
     "data": {
      "text/plain": [
       "<All keys matched successfully>"
      ]
     },
     "execution_count": 13,
     "metadata": {},
     "output_type": "execute_result"
    }
   ],
   "source": [
    "# model_path = '/Users/georgioszefkilis/Bayesian_Deep_Learning/models/best_checkpoint.pth'\n",
    "model_path = '/Users/georgioszefkilis/Bayesian_Deep_Learning/saved_models/colab_best_Vanilla_MNIST_20.pth'\n",
    "checkpoint = torch.load(model_path, map_location=device)\n",
    "    # initialize state_dict from checkpoint to model\n",
    "model.load_state_dict(checkpoint[\"state_dict\"])"
   ]
  },
  {
   "cell_type": "code",
   "execution_count": 14,
   "metadata": {},
   "outputs": [],
   "source": [
    "@torch.no_grad()\n",
    "def predict(dataloader, model, laplace=False):\n",
    "    py = []\n",
    "    target = []\n",
    "    for x, t in dataloader:\n",
    "        x,t = x.to(device),t.to(device)\n",
    "        target.append(t)\n",
    "        if laplace:\n",
    "            py.append(model(x))\n",
    "        else:\n",
    "            py.append(torch.softmax(model(x), dim=-1))\n",
    "\n",
    "    images = torch.cat(py).cpu()\n",
    "    labels =torch.cat(target, dim=0).cpu()\n",
    "    acc_map = (images.argmax(-1) == labels).float().mean()\n",
    "    ece_map = ECE(bins=15).measure(images.numpy(), labels.numpy())\n",
    "    nll_map = -dists.Categorical(images).log_prob(labels).mean()\n",
    "    \n",
    "    return acc_map,ece_map,nll_map"
   ]
  },
  {
   "cell_type": "markdown",
   "metadata": {},
   "source": [
    "# Last layer implementation"
   ]
  },
  {
   "cell_type": "markdown",
   "metadata": {},
   "source": [
    "## Without Laplace"
   ]
  },
  {
   "cell_type": "code",
   "execution_count": 15,
   "metadata": {},
   "outputs": [
    {
     "name": "stdout",
     "output_type": "stream",
     "text": [
      "[MAP] Acc.: 99.2%; ECE: 0.5%; NLL: 0.0349\n"
     ]
    }
   ],
   "source": [
    "acc_map,ece_map,nll_map = predict(test_loader,model, laplace=False)\n",
    "print(f\"[MAP] Acc.: {acc_map:.1%}; ECE: {ece_map:.1%}; NLL: {nll_map:.3}\")"
   ]
  },
  {
   "cell_type": "markdown",
   "metadata": {},
   "source": [
    "## With Laplace"
   ]
  },
  {
   "cell_type": "code",
   "execution_count": 16,
   "metadata": {},
   "outputs": [],
   "source": [
    "la = Laplace(model, 'classification',\n",
    "             subset_of_weights='last_layer',\n",
    "             hessian_structure='kron')\n",
    "la.fit(train_loader)\n",
    "la.optimize_prior_precision(method='marglik')"
   ]
  },
  {
   "cell_type": "code",
   "execution_count": 17,
   "metadata": {},
   "outputs": [
    {
     "name": "stdout",
     "output_type": "stream",
     "text": [
      "Acc.: 99.2%; ECE: 0.2%; NLL: 0.0257\n"
     ]
    }
   ],
   "source": [
    "acc_laplace,ece_laplace,nll_laplace = predict(test_loader,la,laplace=True)\n",
    "print(f\"Acc.: {acc_laplace:.1%}; ECE: {ece_laplace:.1%}; NLL: {nll_laplace:.3}\")"
   ]
  },
  {
   "cell_type": "code",
   "execution_count": 30,
   "metadata": {},
   "outputs": [
    {
     "ename": "RuntimeError",
     "evalue": "shape '[32, 16, 5, 5]' is invalid for input of size 62",
     "output_type": "error",
     "traceback": [
      "\u001b[0;31m---------------------------------------------------------------------------\u001b[0m",
      "\u001b[0;31mRuntimeError\u001b[0m                              Traceback (most recent call last)",
      "\u001b[1;32m/Users/georgioszefkilis/Bayesian_Deep_Learning/notebooks/Laplace_Vanilla_MNIST.ipynb Cell 21'\u001b[0m in \u001b[0;36m<module>\u001b[0;34m\u001b[0m\n\u001b[0;32m----> <a href='vscode-notebook-cell:/Users/georgioszefkilis/Bayesian_Deep_Learning/notebooks/Laplace_Vanilla_MNIST.ipynb#ch0000027?line=0'>1</a>\u001b[0m torch\u001b[39m.\u001b[39;49mnn\u001b[39m.\u001b[39;49mutils\u001b[39m.\u001b[39;49mvector_to_parameters(la\u001b[39m.\u001b[39;49msample(n_samples\u001b[39m=\u001b[39;49m\u001b[39m10\u001b[39;49m)[\u001b[39m0\u001b[39;49m], model\u001b[39m.\u001b[39;49mparameters())\n",
      "File \u001b[0;32m~/anaconda3/anaconda3/envs/Bayesian_DL/lib/python3.8/site-packages/torch/nn/utils/convert_parameters.py:51\u001b[0m, in \u001b[0;36mvector_to_parameters\u001b[0;34m(vec, parameters)\u001b[0m\n\u001b[1;32m     <a href='file:///~/anaconda3/anaconda3/envs/Bayesian_DL/lib/python3.8/site-packages/torch/nn/utils/convert_parameters.py?line=48'>49</a>\u001b[0m num_param \u001b[39m=\u001b[39m param\u001b[39m.\u001b[39mnumel()\n\u001b[1;32m     <a href='file:///~/anaconda3/anaconda3/envs/Bayesian_DL/lib/python3.8/site-packages/torch/nn/utils/convert_parameters.py?line=49'>50</a>\u001b[0m \u001b[39m# Slice the vector, reshape it, and replace the old data of the parameter\u001b[39;00m\n\u001b[0;32m---> <a href='file:///~/anaconda3/anaconda3/envs/Bayesian_DL/lib/python3.8/site-packages/torch/nn/utils/convert_parameters.py?line=50'>51</a>\u001b[0m param\u001b[39m.\u001b[39mdata \u001b[39m=\u001b[39m vec[pointer:pointer \u001b[39m+\u001b[39;49m num_param]\u001b[39m.\u001b[39;49mview_as(param)\u001b[39m.\u001b[39mdata\n\u001b[1;32m     <a href='file:///~/anaconda3/anaconda3/envs/Bayesian_DL/lib/python3.8/site-packages/torch/nn/utils/convert_parameters.py?line=52'>53</a>\u001b[0m \u001b[39m# Increment the pointer\u001b[39;00m\n\u001b[1;32m     <a href='file:///~/anaconda3/anaconda3/envs/Bayesian_DL/lib/python3.8/site-packages/torch/nn/utils/convert_parameters.py?line=53'>54</a>\u001b[0m pointer \u001b[39m+\u001b[39m\u001b[39m=\u001b[39m num_param\n",
      "\u001b[0;31mRuntimeError\u001b[0m: shape '[32, 16, 5, 5]' is invalid for input of size 62"
     ]
    }
   ],
   "source": [
    "torch.nn.utils.vector_to_parameters(la.sample(n_samples=10)[0], model.parameters())\n"
   ]
  },
  {
   "cell_type": "markdown",
   "metadata": {},
   "source": [
    "# Subnetwork implementation"
   ]
  },
  {
   "cell_type": "code",
   "execution_count": 18,
   "metadata": {},
   "outputs": [],
   "source": [
    "from laplace.baselaplace import FullLaplace\n",
    "from laplace.curvature.backpack import BackPackGGN\n",
    "from laplace.utils import ModuleNameSubnetMask"
   ]
  },
  {
   "cell_type": "code",
   "execution_count": 19,
   "metadata": {},
   "outputs": [
    {
     "name": "stdout",
     "output_type": "stream",
     "text": [
      "\n",
      "base\n",
      "base.base_net\n",
      "base.base_net.0\n",
      "base.base_net.0.0\n",
      "base.base_net.0.1\n",
      "base.base_net.0.2\n",
      "base.base_net.0.3\n",
      "base.base_net.1\n",
      "base.base_net.1.0\n",
      "base.base_net.1.1\n",
      "base.base_net.1.2\n",
      "base.base_net.1.3\n",
      "fc1\n",
      "fc2\n"
     ]
    }
   ],
   "source": [
    "for name,m in model.named_modules():\n",
    "    print(name)"
   ]
  },
  {
   "cell_type": "code",
   "execution_count": 21,
   "metadata": {},
   "outputs": [
    {
     "name": "stdout",
     "output_type": "stream",
     "text": [
      "start_laplace\n",
      "step 2\n",
      "step 3\n",
      "step 4\n",
      "fit\n"
     ]
    },
    {
     "name": "stderr",
     "output_type": "stream",
     "text": [
      "/Users/georgioszefkilis/anaconda3/anaconda3/envs/Bayesian_DL/lib/python3.8/site-packages/backpack/extensions/backprop_extension.py:106: UserWarning: Extension saving to grad_batch does not have an extension for Module <class '__main__.Net'> although the module has parameters\n",
      "  warnings.warn(\n",
      "/Users/georgioszefkilis/anaconda3/anaconda3/envs/Bayesian_DL/lib/python3.8/site-packages/backpack/extensions/backprop_extension.py:106: UserWarning: Extension saving to grad_batch does not have an extension for Module <class '__main__.Base'> although the module has parameters\n",
      "  warnings.warn(\n"
     ]
    },
    {
     "name": "stdout",
     "output_type": "stream",
     "text": [
      "optimize\n"
     ]
    }
   ],
   "source": [
    "print('start_laplace')\n",
    "subnetwork_mask = ModuleNameSubnetMask(model, module_names=['base.base_net.1.0'])\n",
    "print('step 2')\n",
    "subnetwork_mask.select()\n",
    "print('step 3')\n",
    "subnetwork_indices = subnetwork_mask.indices\n",
    "print('step 4')\n",
    "sub_laplace = Laplace(\n",
    "    model,\n",
    "    \"classification\",\n",
    "    subset_of_weights=\"subnetwork\",\n",
    "    hessian_structure=\"full\",\n",
    "    subnetwork_indices = subnetwork_indices#.type(torch.LongTensor),\n",
    ")\n",
    "print('fit')\n",
    "sub_laplace.fit(train_loader)\n",
    "print('optimize')\n",
    "#sub_laplace.prior_precision=torch.tensor([0.00001])\n",
    "\n",
    "#laplace.optimize_prior_precision(method=\"marglik\",val_loader=test_loader)"
   ]
  },
  {
   "cell_type": "code",
   "execution_count": 22,
   "metadata": {},
   "outputs": [
    {
     "name": "stdout",
     "output_type": "stream",
     "text": [
      "Acc.: 99.2%; ECE: 18.7%; NLL: 0.248\n"
     ]
    }
   ],
   "source": [
    "acc_subnet,ece_subnet,nll_subnet = predict(test_loader,sub_laplace,laplace=True)\n",
    "print(f\"Acc.: {acc_subnet:.1%}; ECE: {ece_subnet:.1%}; NLL: {nll_subnet:.3}\")"
   ]
  },
  {
   "cell_type": "code",
   "execution_count": 32,
   "metadata": {},
   "outputs": [],
   "source": [
    "sub_laplace.prior_precision=torch.tensor([0.00001])\n",
    "acc_subnet,ece_subnet,nll_subnet = predict(test_loader,sub_laplace,laplace=True)\n",
    "print(f\"Acc.: {acc_subnet:.1%}; ECE: {ece_subnet:.1%}; NLL: {nll_subnet:.3}\")"
   ]
  },
  {
   "cell_type": "code",
   "execution_count": 31,
   "metadata": {},
   "outputs": [
    {
     "ename": "RuntimeError",
     "evalue": "The size of tensor a (39504) must match the size of tensor b (12832) at non-singleton dimension 0",
     "output_type": "error",
     "traceback": [
      "\u001b[0;31m---------------------------------------------------------------------------\u001b[0m",
      "\u001b[0;31mRuntimeError\u001b[0m                              Traceback (most recent call last)",
      "\u001b[1;32m/Users/georgioszefkilis/Bayesian_Deep_Learning/notebooks/Laplace_Vanilla_MNIST.ipynb Cell 27'\u001b[0m in \u001b[0;36m<module>\u001b[0;34m\u001b[0m\n\u001b[0;32m----> <a href='vscode-notebook-cell:/Users/georgioszefkilis/Bayesian_Deep_Learning/notebooks/Laplace_Vanilla_MNIST.ipynb#ch0000026?line=0'>1</a>\u001b[0m sub_laplace\u001b[39m.\u001b[39;49moptimize_prior_precision(method\u001b[39m=\u001b[39;49m\u001b[39m\"\u001b[39;49m\u001b[39mmarglik\u001b[39;49m\u001b[39m\"\u001b[39;49m)\n",
      "File \u001b[0;32m~/Laplace/laplace/baselaplace.py:650\u001b[0m, in \u001b[0;36mParametricLaplace.optimize_prior_precision\u001b[0;34m(self, method, pred_type, n_steps, lr, init_prior_prec, val_loader, loss, log_prior_prec_min, log_prior_prec_max, grid_size, link_approx, n_samples, verbose, cv_loss_with_var)\u001b[0m\n\u001b[1;32m    <a href='file:///~/Laplace/laplace/baselaplace.py?line=643'>644</a>\u001b[0m \u001b[39mdef\u001b[39;00m \u001b[39moptimize_prior_precision\u001b[39m(\u001b[39mself\u001b[39m, method\u001b[39m=\u001b[39m\u001b[39m'\u001b[39m\u001b[39mmarglik\u001b[39m\u001b[39m'\u001b[39m, pred_type\u001b[39m=\u001b[39m\u001b[39m'\u001b[39m\u001b[39mglm\u001b[39m\u001b[39m'\u001b[39m, n_steps\u001b[39m=\u001b[39m\u001b[39m100\u001b[39m, lr\u001b[39m=\u001b[39m\u001b[39m1e-1\u001b[39m,\n\u001b[1;32m    <a href='file:///~/Laplace/laplace/baselaplace.py?line=644'>645</a>\u001b[0m                              init_prior_prec\u001b[39m=\u001b[39m\u001b[39m1.\u001b[39m, val_loader\u001b[39m=\u001b[39m\u001b[39mNone\u001b[39;00m, loss\u001b[39m=\u001b[39mget_nll,\n\u001b[1;32m    <a href='file:///~/Laplace/laplace/baselaplace.py?line=645'>646</a>\u001b[0m                              log_prior_prec_min\u001b[39m=\u001b[39m\u001b[39m-\u001b[39m\u001b[39m4\u001b[39m, log_prior_prec_max\u001b[39m=\u001b[39m\u001b[39m4\u001b[39m, grid_size\u001b[39m=\u001b[39m\u001b[39m100\u001b[39m,\n\u001b[1;32m    <a href='file:///~/Laplace/laplace/baselaplace.py?line=646'>647</a>\u001b[0m                              link_approx\u001b[39m=\u001b[39m\u001b[39m'\u001b[39m\u001b[39mprobit\u001b[39m\u001b[39m'\u001b[39m, n_samples\u001b[39m=\u001b[39m\u001b[39m100\u001b[39m, verbose\u001b[39m=\u001b[39m\u001b[39mFalse\u001b[39;00m,\n\u001b[1;32m    <a href='file:///~/Laplace/laplace/baselaplace.py?line=647'>648</a>\u001b[0m                              cv_loss_with_var\u001b[39m=\u001b[39m\u001b[39mFalse\u001b[39;00m):\n\u001b[1;32m    <a href='file:///~/Laplace/laplace/baselaplace.py?line=648'>649</a>\u001b[0m     \u001b[39massert\u001b[39;00m pred_type \u001b[39min\u001b[39;00m [\u001b[39m'\u001b[39m\u001b[39mglm\u001b[39m\u001b[39m'\u001b[39m, \u001b[39m'\u001b[39m\u001b[39mnn\u001b[39m\u001b[39m'\u001b[39m]\n\u001b[0;32m--> <a href='file:///~/Laplace/laplace/baselaplace.py?line=649'>650</a>\u001b[0m     \u001b[39mself\u001b[39;49m\u001b[39m.\u001b[39;49moptimize_prior_precision_base(pred_type, method, n_steps, lr,\n\u001b[1;32m    <a href='file:///~/Laplace/laplace/baselaplace.py?line=650'>651</a>\u001b[0m                                        init_prior_prec, val_loader, loss,\n\u001b[1;32m    <a href='file:///~/Laplace/laplace/baselaplace.py?line=651'>652</a>\u001b[0m                                        log_prior_prec_min, log_prior_prec_max,\n\u001b[1;32m    <a href='file:///~/Laplace/laplace/baselaplace.py?line=652'>653</a>\u001b[0m                                        grid_size, link_approx, n_samples,\n\u001b[1;32m    <a href='file:///~/Laplace/laplace/baselaplace.py?line=653'>654</a>\u001b[0m                                        verbose, cv_loss_with_var)\n",
      "File \u001b[0;32m~/Laplace/laplace/baselaplace.py:233\u001b[0m, in \u001b[0;36mBaseLaplace.optimize_prior_precision_base\u001b[0;34m(self, pred_type, method, n_steps, lr, init_prior_prec, val_loader, loss, log_prior_prec_min, log_prior_prec_max, grid_size, link_approx, n_samples, verbose, cv_loss_with_var)\u001b[0m\n\u001b[1;32m    <a href='file:///~/Laplace/laplace/baselaplace.py?line=230'>231</a>\u001b[0m optimizer\u001b[39m.\u001b[39mzero_grad()\n\u001b[1;32m    <a href='file:///~/Laplace/laplace/baselaplace.py?line=231'>232</a>\u001b[0m prior_prec \u001b[39m=\u001b[39m log_prior_prec\u001b[39m.\u001b[39mexp()\n\u001b[0;32m--> <a href='file:///~/Laplace/laplace/baselaplace.py?line=232'>233</a>\u001b[0m neg_log_marglik \u001b[39m=\u001b[39m \u001b[39m-\u001b[39m\u001b[39mself\u001b[39;49m\u001b[39m.\u001b[39;49mlog_marginal_likelihood(prior_precision\u001b[39m=\u001b[39;49mprior_prec)\n\u001b[1;32m    <a href='file:///~/Laplace/laplace/baselaplace.py?line=233'>234</a>\u001b[0m neg_log_marglik\u001b[39m.\u001b[39mbackward()\n\u001b[1;32m    <a href='file:///~/Laplace/laplace/baselaplace.py?line=234'>235</a>\u001b[0m optimizer\u001b[39m.\u001b[39mstep()\n",
      "File \u001b[0;32m~/Laplace/laplace/baselaplace.py:493\u001b[0m, in \u001b[0;36mParametricLaplace.log_marginal_likelihood\u001b[0;34m(self, prior_precision, sigma_noise)\u001b[0m\n\u001b[1;32m    <a href='file:///~/Laplace/laplace/baselaplace.py?line=489'>490</a>\u001b[0m         \u001b[39mraise\u001b[39;00m \u001b[39mValueError\u001b[39;00m(\u001b[39m'\u001b[39m\u001b[39mCan only change sigma_noise for regression.\u001b[39m\u001b[39m'\u001b[39m)\n\u001b[1;32m    <a href='file:///~/Laplace/laplace/baselaplace.py?line=490'>491</a>\u001b[0m     \u001b[39mself\u001b[39m\u001b[39m.\u001b[39msigma_noise \u001b[39m=\u001b[39m sigma_noise\n\u001b[0;32m--> <a href='file:///~/Laplace/laplace/baselaplace.py?line=492'>493</a>\u001b[0m \u001b[39mreturn\u001b[39;00m \u001b[39mself\u001b[39m\u001b[39m.\u001b[39mlog_likelihood \u001b[39m-\u001b[39m \u001b[39m0.5\u001b[39m \u001b[39m*\u001b[39m (\u001b[39mself\u001b[39m\u001b[39m.\u001b[39mlog_det_ratio \u001b[39m+\u001b[39m \u001b[39mself\u001b[39;49m\u001b[39m.\u001b[39;49mscatter)\n",
      "File \u001b[0;32m~/Laplace/laplace/baselaplace.py:395\u001b[0m, in \u001b[0;36mParametricLaplace.scatter\u001b[0;34m(self)\u001b[0m\n\u001b[1;32m    <a href='file:///~/Laplace/laplace/baselaplace.py?line=384'>385</a>\u001b[0m \u001b[39m\"\"\"Computes the _scatter_, a term of the log marginal likelihood that\u001b[39;00m\n\u001b[1;32m    <a href='file:///~/Laplace/laplace/baselaplace.py?line=385'>386</a>\u001b[0m \u001b[39mcorresponds to L-2 regularization:\u001b[39;00m\n\u001b[1;32m    <a href='file:///~/Laplace/laplace/baselaplace.py?line=386'>387</a>\u001b[0m \u001b[39m`scatter` = \\\\((\\\\theta_{MAP} - \\\\mu_0)^{T} P_0 (\\\\theta_{MAP} - \\\\mu_0) \\\\).\u001b[39;00m\n\u001b[0;32m   (...)\u001b[0m\n\u001b[1;32m    <a href='file:///~/Laplace/laplace/baselaplace.py?line=391'>392</a>\u001b[0m \u001b[39m    [description]\u001b[39;00m\n\u001b[1;32m    <a href='file:///~/Laplace/laplace/baselaplace.py?line=392'>393</a>\u001b[0m \u001b[39m\"\"\"\u001b[39;00m\n\u001b[1;32m    <a href='file:///~/Laplace/laplace/baselaplace.py?line=393'>394</a>\u001b[0m delta \u001b[39m=\u001b[39m (\u001b[39mself\u001b[39m\u001b[39m.\u001b[39mmean \u001b[39m-\u001b[39m \u001b[39mself\u001b[39m\u001b[39m.\u001b[39mprior_mean)\n\u001b[0;32m--> <a href='file:///~/Laplace/laplace/baselaplace.py?line=394'>395</a>\u001b[0m \u001b[39mreturn\u001b[39;00m (delta \u001b[39m*\u001b[39;49m \u001b[39mself\u001b[39;49m\u001b[39m.\u001b[39;49mprior_precision_diag) \u001b[39m@\u001b[39m delta\n",
      "\u001b[0;31mRuntimeError\u001b[0m: The size of tensor a (39504) must match the size of tensor b (12832) at non-singleton dimension 0"
     ]
    }
   ],
   "source": [
    "sub_laplace.optimize_prior_precision(method=\"marglik\")"
   ]
  }
 ],
 "metadata": {
  "interpreter": {
   "hash": "5519e73fd253ddc2638f9eb90f462b822a94835075ef16496d7f936ba3e281cb"
  },
  "kernelspec": {
   "display_name": "Python 3.8.12 ('Bayesian_DL')",
   "language": "python",
   "name": "python3"
  },
  "language_info": {
   "codemirror_mode": {
    "name": "ipython",
    "version": 3
   },
   "file_extension": ".py",
   "mimetype": "text/x-python",
   "name": "python",
   "nbconvert_exporter": "python",
   "pygments_lexer": "ipython3",
   "version": "3.8.12"
  },
  "orig_nbformat": 4
 },
 "nbformat": 4,
 "nbformat_minor": 2
}
